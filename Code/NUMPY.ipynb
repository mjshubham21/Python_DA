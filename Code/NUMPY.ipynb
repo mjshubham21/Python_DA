{
 "cells": [
  {
   "cell_type": "code",
   "execution_count": 2,
   "id": "a2cbba3a-6492-4d23-bef4-85fe25f8d338",
   "metadata": {},
   "outputs": [],
   "source": [
    "import numpy as np"
   ]
  },
  {
   "cell_type": "code",
   "execution_count": 3,
   "id": "124d1123-11aa-4ad5-ae01-0d8ce9c0bdf7",
   "metadata": {},
   "outputs": [],
   "source": [
    "#!pip install numpy"
   ]
  },
  {
   "cell_type": "code",
   "execution_count": 4,
   "id": "7df25516-6d76-4537-ac48-78e83ec38b3c",
   "metadata": {},
   "outputs": [],
   "source": [
    "list1 = [1,2,3,4]"
   ]
  },
  {
   "cell_type": "code",
   "execution_count": 5,
   "id": "2a5e4b23-e4fe-437e-ab43-c88d4106e392",
   "metadata": {},
   "outputs": [
    {
     "name": "stdout",
     "output_type": "stream",
     "text": [
      "1\n",
      "4\n",
      "9\n",
      "16\n"
     ]
    }
   ],
   "source": [
    "for i in list1:\n",
    "    print(i**2)"
   ]
  },
  {
   "cell_type": "code",
   "execution_count": 6,
   "id": "0705ab94-72d9-4b78-8a57-f2d7f57091a4",
   "metadata": {},
   "outputs": [
    {
     "data": {
      "text/plain": [
       "[1, 4, 9, 16]"
      ]
     },
     "execution_count": 6,
     "metadata": {},
     "output_type": "execute_result"
    }
   ],
   "source": [
    "[i**2 for i in list1]"
   ]
  },
  {
   "cell_type": "code",
   "execution_count": 7,
   "id": "e8ffa75a-7672-45c7-815a-5fa9a55f5c6f",
   "metadata": {},
   "outputs": [],
   "source": [
    "arr = np.array([1,2,3,4])"
   ]
  },
  {
   "cell_type": "code",
   "execution_count": 8,
   "id": "2312bb57-07ea-4d54-918e-67eb31cb0173",
   "metadata": {},
   "outputs": [
    {
     "data": {
      "text/plain": [
       "array([1, 2, 3, 4])"
      ]
     },
     "execution_count": 8,
     "metadata": {},
     "output_type": "execute_result"
    }
   ],
   "source": [
    "arr"
   ]
  },
  {
   "cell_type": "code",
   "execution_count": 9,
   "id": "4714af00-8dca-47db-b860-4d7fcadb4eab",
   "metadata": {},
   "outputs": [
    {
     "data": {
      "text/plain": [
       "numpy.ndarray"
      ]
     },
     "execution_count": 9,
     "metadata": {},
     "output_type": "execute_result"
    }
   ],
   "source": [
    "type(arr)"
   ]
  },
  {
   "cell_type": "code",
   "execution_count": 10,
   "id": "1eb809fc-8d7f-48a8-99e1-392302033840",
   "metadata": {},
   "outputs": [
    {
     "data": {
      "text/plain": [
       "array([ 1,  4,  9, 16])"
      ]
     },
     "execution_count": 10,
     "metadata": {},
     "output_type": "execute_result"
    }
   ],
   "source": [
    "arr**2"
   ]
  },
  {
   "cell_type": "code",
   "execution_count": 11,
   "id": "81a7de28-4652-4324-acb0-32645c85fe84",
   "metadata": {},
   "outputs": [],
   "source": [
    "list5 = [i for i in range(1,101)]"
   ]
  },
  {
   "cell_type": "code",
   "execution_count": 12,
   "id": "0ea04550-7e64-4926-bb71-0d5e6661211a",
   "metadata": {},
   "outputs": [],
   "source": [
    "arr5 = np.array(list5)"
   ]
  },
  {
   "cell_type": "code",
   "execution_count": 13,
   "id": "651c45f1-abd6-4750-8ef2-88533fb2accb",
   "metadata": {},
   "outputs": [],
   "source": [
    "# %timeit [i**2 for i in list5]"
   ]
  },
  {
   "cell_type": "code",
   "execution_count": 14,
   "id": "987b2fa5-0560-4d15-b03c-84fe9e3d5d66",
   "metadata": {},
   "outputs": [],
   "source": [
    "# %timeit arr5**2"
   ]
  },
  {
   "cell_type": "code",
   "execution_count": 15,
   "id": "f12d1eab-8eee-4f3d-8a21-90d1ed9e91f0",
   "metadata": {},
   "outputs": [],
   "source": [
    "arr4 = np.arange(12)"
   ]
  },
  {
   "cell_type": "code",
   "execution_count": 16,
   "id": "a8319bb5-1c37-4de6-b040-e3cd8c757218",
   "metadata": {},
   "outputs": [
    {
     "data": {
      "text/plain": [
       "array([ 0,  1,  2,  3,  4,  5,  6,  7,  8,  9, 10, 11])"
      ]
     },
     "execution_count": 16,
     "metadata": {},
     "output_type": "execute_result"
    }
   ],
   "source": [
    "arr4"
   ]
  },
  {
   "cell_type": "code",
   "execution_count": 17,
   "id": "57f08c7a-c73d-475a-9ee8-df97bedd1d4b",
   "metadata": {},
   "outputs": [
    {
     "data": {
      "text/plain": [
       "66"
      ]
     },
     "execution_count": 17,
     "metadata": {},
     "output_type": "execute_result"
    }
   ],
   "source": [
    "np.sum(arr4)"
   ]
  },
  {
   "cell_type": "code",
   "execution_count": 18,
   "id": "6f99b123-1fe8-45db-ae6a-c7ffe6957852",
   "metadata": {},
   "outputs": [
    {
     "data": {
      "text/plain": [
       "0"
      ]
     },
     "execution_count": 18,
     "metadata": {},
     "output_type": "execute_result"
    }
   ],
   "source": [
    "np.min(arr4)"
   ]
  },
  {
   "cell_type": "code",
   "execution_count": 19,
   "id": "9081ec0a-a3b2-4bee-afcc-51eda42a8ab6",
   "metadata": {},
   "outputs": [
    {
     "data": {
      "text/plain": [
       "11"
      ]
     },
     "execution_count": 19,
     "metadata": {},
     "output_type": "execute_result"
    }
   ],
   "source": [
    "np.max(arr4)"
   ]
  },
  {
   "cell_type": "code",
   "execution_count": 20,
   "id": "6ff03d1c-cb63-48f7-b840-cdd2b8c25b7e",
   "metadata": {},
   "outputs": [
    {
     "data": {
      "text/plain": [
       "5.5"
      ]
     },
     "execution_count": 20,
     "metadata": {},
     "output_type": "execute_result"
    }
   ],
   "source": [
    "np.mean(arr4)"
   ]
  },
  {
   "cell_type": "code",
   "execution_count": 21,
   "id": "757ce57a-0c67-494c-b624-a4c8a425779d",
   "metadata": {},
   "outputs": [
    {
     "data": {
      "text/plain": [
       "1"
      ]
     },
     "execution_count": 21,
     "metadata": {},
     "output_type": "execute_result"
    }
   ],
   "source": [
    "arr4.ndim"
   ]
  },
  {
   "cell_type": "code",
   "execution_count": 22,
   "id": "4c865118-eeee-4e81-aec8-95b96f0d21d8",
   "metadata": {},
   "outputs": [
    {
     "data": {
      "text/plain": [
       "12"
      ]
     },
     "execution_count": 22,
     "metadata": {},
     "output_type": "execute_result"
    }
   ],
   "source": [
    "len(arr4)"
   ]
  },
  {
   "cell_type": "code",
   "execution_count": 23,
   "id": "13548eaf-408a-4d44-95f1-5088b6b0a7d6",
   "metadata": {},
   "outputs": [
    {
     "data": {
      "text/plain": [
       "12"
      ]
     },
     "execution_count": 23,
     "metadata": {},
     "output_type": "execute_result"
    }
   ],
   "source": [
    "arr4.size"
   ]
  },
  {
   "cell_type": "code",
   "execution_count": 24,
   "id": "8b06c99f-93cb-4e19-aefb-9b03db54fea6",
   "metadata": {},
   "outputs": [],
   "source": [
    "list9 = [1,5.0,\"string\"]"
   ]
  },
  {
   "cell_type": "code",
   "execution_count": 25,
   "id": "2a0b4439-1455-4c42-a292-096c84afab13",
   "metadata": {},
   "outputs": [
    {
     "data": {
      "text/plain": [
       "[1, 5.0, 'string']"
      ]
     },
     "execution_count": 25,
     "metadata": {},
     "output_type": "execute_result"
    }
   ],
   "source": [
    "list9"
   ]
  },
  {
   "cell_type": "code",
   "execution_count": 26,
   "id": "af93c11e-85ab-49dc-ac7b-3de2c5ce5317",
   "metadata": {},
   "outputs": [
    {
     "data": {
      "text/plain": [
       "array([ True, False])"
      ]
     },
     "execution_count": 26,
     "metadata": {},
     "output_type": "execute_result"
    }
   ],
   "source": [
    "np.array([True,False])"
   ]
  },
  {
   "cell_type": "code",
   "execution_count": 27,
   "id": "16f4d24f-932b-42a4-ae1e-2ed521ba1910",
   "metadata": {},
   "outputs": [
    {
     "data": {
      "text/plain": [
       "array([1, 0, 5])"
      ]
     },
     "execution_count": 27,
     "metadata": {},
     "output_type": "execute_result"
    }
   ],
   "source": [
    "np.array([True,False,5])"
   ]
  },
  {
   "cell_type": "code",
   "execution_count": 28,
   "id": "842a3c12-a3ac-4fa2-bd01-68a0a37651e2",
   "metadata": {},
   "outputs": [
    {
     "data": {
      "text/plain": [
       "array([1., 0., 5., 5.])"
      ]
     },
     "execution_count": 28,
     "metadata": {},
     "output_type": "execute_result"
    }
   ],
   "source": [
    "np.array([True,False,5,5.0])"
   ]
  },
  {
   "cell_type": "code",
   "execution_count": 29,
   "id": "d26ed444-1256-4a23-b70b-3130da3c10ab",
   "metadata": {},
   "outputs": [
    {
     "data": {
      "text/plain": [
       "array(['True', 'False', '5', '5.0', 'strng'], dtype='<U32')"
      ]
     },
     "execution_count": 29,
     "metadata": {},
     "output_type": "execute_result"
    }
   ],
   "source": [
    "np.array([True,False,5,5.0,\"strng\"])"
   ]
  },
  {
   "cell_type": "code",
   "execution_count": 30,
   "id": "f4117a2c-c4bc-49cb-b3e3-1ef097c37d0e",
   "metadata": {},
   "outputs": [
    {
     "data": {
      "text/plain": [
       "array([1, 1, 1, 1, 1, 1, 1, 1, 1, 1, 1, 1, 1, 1, 1])"
      ]
     },
     "execution_count": 30,
     "metadata": {},
     "output_type": "execute_result"
    }
   ],
   "source": [
    "np.ones(15,dtype=int)"
   ]
  },
  {
   "cell_type": "code",
   "execution_count": 31,
   "id": "b1c8a206-5eda-46c6-97dc-7714b7cd221b",
   "metadata": {},
   "outputs": [
    {
     "data": {
      "text/plain": [
       "array([0, 0, 0, 0, 0, 0, 0, 0, 0, 0, 0, 0, 0, 0, 0])"
      ]
     },
     "execution_count": 31,
     "metadata": {},
     "output_type": "execute_result"
    }
   ],
   "source": [
    "np.zeros(15,dtype=int)"
   ]
  },
  {
   "cell_type": "code",
   "execution_count": 32,
   "id": "aab07dc6-d2df-4f1a-a256-4e4569639f2b",
   "metadata": {},
   "outputs": [],
   "source": [
    "arr6 = np.array([\n",
    "    [1,2,3],\n",
    "    [4,5,6],\n",
    "    [7,8,9]\n",
    "])"
   ]
  },
  {
   "cell_type": "code",
   "execution_count": 33,
   "id": "2f384922-a433-4ad2-91d9-db62f78efceb",
   "metadata": {},
   "outputs": [
    {
     "data": {
      "text/plain": [
       "array([[1, 2, 3],\n",
       "       [4, 5, 6],\n",
       "       [7, 8, 9]])"
      ]
     },
     "execution_count": 33,
     "metadata": {},
     "output_type": "execute_result"
    }
   ],
   "source": [
    "arr6"
   ]
  },
  {
   "cell_type": "code",
   "execution_count": 34,
   "id": "64176e2b-4cf6-4989-ba91-ce5a5ede7da3",
   "metadata": {},
   "outputs": [
    {
     "data": {
      "text/plain": [
       "numpy.ndarray"
      ]
     },
     "execution_count": 34,
     "metadata": {},
     "output_type": "execute_result"
    }
   ],
   "source": [
    "type(arr6)"
   ]
  },
  {
   "cell_type": "code",
   "execution_count": 35,
   "id": "2fbfc520-9615-491f-b716-11dffe835c24",
   "metadata": {},
   "outputs": [
    {
     "data": {
      "text/plain": [
       "2"
      ]
     },
     "execution_count": 35,
     "metadata": {},
     "output_type": "execute_result"
    }
   ],
   "source": [
    "arr6.ndim"
   ]
  },
  {
   "cell_type": "code",
   "execution_count": 36,
   "id": "8d135542-c9db-4cc1-8495-e5cbfea5cb78",
   "metadata": {},
   "outputs": [
    {
     "data": {
      "text/plain": [
       "9"
      ]
     },
     "execution_count": 36,
     "metadata": {},
     "output_type": "execute_result"
    }
   ],
   "source": [
    "arr6.size"
   ]
  },
  {
   "cell_type": "code",
   "execution_count": 37,
   "id": "a256679d-064a-4a9c-aee7-18ec397e4117",
   "metadata": {},
   "outputs": [
    {
     "data": {
      "text/plain": [
       "(3, 3)"
      ]
     },
     "execution_count": 37,
     "metadata": {},
     "output_type": "execute_result"
    }
   ],
   "source": [
    "arr6.shape"
   ]
  },
  {
   "cell_type": "code",
   "execution_count": 38,
   "id": "ac3b940f-d085-4392-89fb-ec8115a335c9",
   "metadata": {},
   "outputs": [
    {
     "data": {
      "text/plain": [
       "array([ 0,  1,  2,  3,  4,  5,  6,  7,  8,  9, 10, 11])"
      ]
     },
     "execution_count": 38,
     "metadata": {},
     "output_type": "execute_result"
    }
   ],
   "source": [
    "arr4"
   ]
  },
  {
   "cell_type": "code",
   "execution_count": 39,
   "id": "8b22bfa9-3a6e-49d6-85e1-98aa966d7a02",
   "metadata": {},
   "outputs": [
    {
     "data": {
      "text/plain": [
       "(12,)"
      ]
     },
     "execution_count": 39,
     "metadata": {},
     "output_type": "execute_result"
    }
   ],
   "source": [
    "arr4.shape"
   ]
  },
  {
   "cell_type": "code",
   "execution_count": 40,
   "id": "7c45fe1e-e592-403b-916e-61b9028f83f3",
   "metadata": {},
   "outputs": [
    {
     "data": {
      "text/plain": [
       "array([[1, 2, 3],\n",
       "       [4, 5, 6],\n",
       "       [7, 8, 9]])"
      ]
     },
     "execution_count": 40,
     "metadata": {},
     "output_type": "execute_result"
    }
   ],
   "source": [
    "arr6"
   ]
  },
  {
   "cell_type": "code",
   "execution_count": 41,
   "id": "ca31610c-6037-4f1e-b062-e909ad39cf1e",
   "metadata": {},
   "outputs": [],
   "source": [
    "arr7 = np.arange(50,150,10)"
   ]
  },
  {
   "cell_type": "code",
   "execution_count": 42,
   "id": "123967e7-0307-4f45-8887-68a74354da63",
   "metadata": {},
   "outputs": [
    {
     "data": {
      "text/plain": [
       "array([ 50,  60,  70,  80,  90, 100, 110, 120, 130, 140])"
      ]
     },
     "execution_count": 42,
     "metadata": {},
     "output_type": "execute_result"
    }
   ],
   "source": [
    "arr7"
   ]
  },
  {
   "cell_type": "code",
   "execution_count": 43,
   "id": "33467b9d-2425-4e06-aa89-0faf3305d2fc",
   "metadata": {},
   "outputs": [
    {
     "data": {
      "text/plain": [
       "70"
      ]
     },
     "execution_count": 43,
     "metadata": {},
     "output_type": "execute_result"
    }
   ],
   "source": [
    "arr7[2]"
   ]
  },
  {
   "cell_type": "code",
   "execution_count": 44,
   "id": "17a90ede-add9-469c-87ec-1ad9077de667",
   "metadata": {},
   "outputs": [
    {
     "data": {
      "text/plain": [
       "array([70, 90])"
      ]
     },
     "execution_count": 44,
     "metadata": {},
     "output_type": "execute_result"
    }
   ],
   "source": [
    "arr7[2:5:2]"
   ]
  },
  {
   "cell_type": "code",
   "execution_count": 45,
   "id": "915ca539-bf30-49e0-8777-9dafd7c0e2e2",
   "metadata": {},
   "outputs": [
    {
     "data": {
      "text/plain": [
       "array([130, 110])"
      ]
     },
     "execution_count": 45,
     "metadata": {},
     "output_type": "execute_result"
    }
   ],
   "source": [
    "arr7[-2:-5:-2]"
   ]
  },
  {
   "cell_type": "code",
   "execution_count": 46,
   "id": "07a9bf35-ebdc-46a2-8f47-f775a192d528",
   "metadata": {},
   "outputs": [
    {
     "data": {
      "text/plain": [
       "array([[1, 2, 3],\n",
       "       [4, 5, 6],\n",
       "       [7, 8, 9]])"
      ]
     },
     "execution_count": 46,
     "metadata": {},
     "output_type": "execute_result"
    }
   ],
   "source": [
    "arr6"
   ]
  },
  {
   "cell_type": "code",
   "execution_count": 47,
   "id": "6334a5b4-5ded-4100-837b-bd330c01ce63",
   "metadata": {},
   "outputs": [
    {
     "data": {
      "text/plain": [
       "2"
      ]
     },
     "execution_count": 47,
     "metadata": {},
     "output_type": "execute_result"
    }
   ],
   "source": [
    "arr6[0,1]"
   ]
  },
  {
   "cell_type": "code",
   "execution_count": 48,
   "id": "120e22e2-7246-4577-8921-7cbc0699b05f",
   "metadata": {},
   "outputs": [
    {
     "data": {
      "text/plain": [
       "array([[4, 5]])"
      ]
     },
     "execution_count": 48,
     "metadata": {},
     "output_type": "execute_result"
    }
   ],
   "source": [
    "arr6[1:2,0:2]"
   ]
  },
  {
   "cell_type": "code",
   "execution_count": 49,
   "id": "5838f220-d2b7-4710-aa66-c4577ca21c12",
   "metadata": {},
   "outputs": [
    {
     "data": {
      "text/plain": [
       "array([[5, 6],\n",
       "       [8, 9]])"
      ]
     },
     "execution_count": 49,
     "metadata": {},
     "output_type": "execute_result"
    }
   ],
   "source": [
    "arr6[1:3,1:3]"
   ]
  },
  {
   "cell_type": "code",
   "execution_count": 50,
   "id": "80adb862-6745-457c-bada-b4316bd1c4c4",
   "metadata": {},
   "outputs": [
    {
     "data": {
      "text/plain": [
       "array([ 50,  60,  70,  80,  90, 100, 110, 120, 130, 140])"
      ]
     },
     "execution_count": 50,
     "metadata": {},
     "output_type": "execute_result"
    }
   ],
   "source": [
    "arr7"
   ]
  },
  {
   "cell_type": "code",
   "execution_count": 51,
   "id": "6e25ffef-117f-4519-acd7-94b12b263026",
   "metadata": {},
   "outputs": [
    {
     "data": {
      "text/plain": [
       "array([50, 60, 80])"
      ]
     },
     "execution_count": 51,
     "metadata": {},
     "output_type": "execute_result"
    }
   ],
   "source": [
    "arr7[[0,1,3]]"
   ]
  },
  {
   "cell_type": "code",
   "execution_count": 52,
   "id": "eb328ca1-bdf5-486f-a70d-5579abfba812",
   "metadata": {},
   "outputs": [
    {
     "data": {
      "text/plain": [
       "[1, 2, 3, 4]"
      ]
     },
     "execution_count": 52,
     "metadata": {},
     "output_type": "execute_result"
    }
   ],
   "source": [
    "list1"
   ]
  },
  {
   "cell_type": "code",
   "execution_count": 53,
   "id": "fb3fc024-4f48-45cd-ba7d-12b881b89141",
   "metadata": {},
   "outputs": [
    {
     "data": {
      "text/plain": [
       "[1, 2, 4]"
      ]
     },
     "execution_count": 53,
     "metadata": {},
     "output_type": "execute_result"
    }
   ],
   "source": [
    "list((list1[0],list1[1],list1[3]))"
   ]
  },
  {
   "cell_type": "code",
   "execution_count": 54,
   "id": "a42d2ca1-2c18-45df-a743-5a25400463e9",
   "metadata": {},
   "outputs": [
    {
     "data": {
      "text/plain": [
       "array([[1, 2, 3],\n",
       "       [4, 5, 6],\n",
       "       [7, 8, 9]])"
      ]
     },
     "execution_count": 54,
     "metadata": {},
     "output_type": "execute_result"
    }
   ],
   "source": [
    "arr6"
   ]
  },
  {
   "cell_type": "code",
   "execution_count": 62,
   "id": "f4069f4c-1b30-4beb-95dd-98871993a0a3",
   "metadata": {},
   "outputs": [
    {
     "data": {
      "text/plain": [
       "array([12, 15, 18])"
      ]
     },
     "execution_count": 62,
     "metadata": {},
     "output_type": "execute_result"
    }
   ],
   "source": [
    "np.sum(arr6,axis = 0)"
   ]
  },
  {
   "cell_type": "code",
   "execution_count": 63,
   "id": "02abec97-54b7-488b-b500-c11bd008ac39",
   "metadata": {},
   "outputs": [
    {
     "data": {
      "text/plain": [
       "array([1, 2, 3])"
      ]
     },
     "execution_count": 63,
     "metadata": {},
     "output_type": "execute_result"
    }
   ],
   "source": [
    "np.min(arr6,axis = 0)"
   ]
  },
  {
   "cell_type": "code",
   "execution_count": 64,
   "id": "d7f3fdc2-7c36-481c-a799-8f50db247de3",
   "metadata": {},
   "outputs": [
    {
     "data": {
      "text/plain": [
       "array([7, 8, 9])"
      ]
     },
     "execution_count": 64,
     "metadata": {},
     "output_type": "execute_result"
    }
   ],
   "source": [
    "np.max(arr6,axis = 0)"
   ]
  },
  {
   "cell_type": "code",
   "execution_count": 67,
   "id": "2ea9e1b3-fcb4-4a03-85db-6b4432cb7b7a",
   "metadata": {},
   "outputs": [
    {
     "data": {
      "text/plain": [
       "array([4, 5, 6])"
      ]
     },
     "execution_count": 67,
     "metadata": {},
     "output_type": "execute_result"
    }
   ],
   "source": [
    "np.mean(arr6,axis = 0,dtype = int)"
   ]
  },
  {
   "cell_type": "code",
   "execution_count": 66,
   "id": "42f31662-58a0-419d-9586-a597bc41c69f",
   "metadata": {},
   "outputs": [
    {
     "data": {
      "text/plain": [
       "array([4., 5., 6.])"
      ]
     },
     "execution_count": 66,
     "metadata": {},
     "output_type": "execute_result"
    }
   ],
   "source": [
    "np.average(arr6,axis = 0)"
   ]
  },
  {
   "cell_type": "code",
   "execution_count": 68,
   "id": "5718227b-cc3f-43e4-92b4-c954c0b84dfb",
   "metadata": {},
   "outputs": [
    {
     "data": {
      "text/plain": [
       "array([ 0,  1,  2,  3,  4,  5,  6,  7,  8,  9, 10, 11])"
      ]
     },
     "execution_count": 68,
     "metadata": {},
     "output_type": "execute_result"
    }
   ],
   "source": [
    "arr4"
   ]
  },
  {
   "cell_type": "code",
   "execution_count": 71,
   "id": "b0b98e81-1987-48af-bcf8-18b79460f18e",
   "metadata": {},
   "outputs": [],
   "source": [
    "# mask\n",
    "mask = (arr4 % 2 == 0)"
   ]
  },
  {
   "cell_type": "code",
   "execution_count": 73,
   "id": "b84477db-8ba6-4e40-a20d-11a8319ce78a",
   "metadata": {},
   "outputs": [
    {
     "data": {
      "text/plain": [
       "array([ 0,  2,  4,  6,  8, 10])"
      ]
     },
     "execution_count": 73,
     "metadata": {},
     "output_type": "execute_result"
    }
   ],
   "source": [
    "arr4[mask]"
   ]
  },
  {
   "cell_type": "code",
   "execution_count": 74,
   "id": "e4043e01-7288-40e4-a2a9-e7e484bf38b2",
   "metadata": {},
   "outputs": [
    {
     "data": {
      "text/plain": [
       "array([ 0,  2,  4,  6,  8, 10])"
      ]
     },
     "execution_count": 74,
     "metadata": {},
     "output_type": "execute_result"
    }
   ],
   "source": [
    "arr4[arr4 % 2 == 0]"
   ]
  },
  {
   "cell_type": "code",
   "execution_count": 75,
   "id": "cc1a6383-ae3e-4421-9c3d-7ccd23cee912",
   "metadata": {},
   "outputs": [],
   "source": [
    "### task is to fetch elemnts which are greater than 6"
   ]
  },
  {
   "cell_type": "code",
   "execution_count": 76,
   "id": "dca75108-e5ae-4f37-997e-d8fa0e903d10",
   "metadata": {},
   "outputs": [
    {
     "data": {
      "text/plain": [
       "array([ 7,  8,  9, 10, 11])"
      ]
     },
     "execution_count": 76,
     "metadata": {},
     "output_type": "execute_result"
    }
   ],
   "source": [
    "arr4[arr4 > 6]"
   ]
  },
  {
   "cell_type": "code",
   "execution_count": 77,
   "id": "9e51e68e-8ef0-4e1b-9b68-62b9d5aa69cc",
   "metadata": {},
   "outputs": [],
   "source": [
    "### task is to fetch elemnts which are divisible by 2 or 3"
   ]
  },
  {
   "cell_type": "code",
   "execution_count": 78,
   "id": "3fa70f11-4d9a-42f1-9c38-b84a2ce28e38",
   "metadata": {},
   "outputs": [
    {
     "data": {
      "text/plain": [
       "array([ 0,  1,  2,  3,  4,  5,  6,  7,  8,  9, 10, 11])"
      ]
     },
     "execution_count": 78,
     "metadata": {},
     "output_type": "execute_result"
    }
   ],
   "source": [
    "arr4"
   ]
  },
  {
   "cell_type": "code",
   "execution_count": 81,
   "id": "73c89667-152a-4ac4-bce3-4770b68b8b3d",
   "metadata": {},
   "outputs": [
    {
     "data": {
      "text/plain": [
       "array([ 0,  2,  3,  4,  6,  8,  9, 10])"
      ]
     },
     "execution_count": 81,
     "metadata": {},
     "output_type": "execute_result"
    }
   ],
   "source": [
    "arr4[(arr4 % 2 == 0) | (arr4 % 3 == 0)]"
   ]
  },
  {
   "cell_type": "code",
   "execution_count": 82,
   "id": "2c003c7e-ac31-42af-a752-9d61ff9beb0c",
   "metadata": {},
   "outputs": [
    {
     "data": {
      "text/plain": [
       "array([0, 6])"
      ]
     },
     "execution_count": 82,
     "metadata": {},
     "output_type": "execute_result"
    }
   ],
   "source": [
    "arr4[(arr4 % 2 == 0) & (arr4 % 3 == 0)]"
   ]
  },
  {
   "cell_type": "code",
   "execution_count": 83,
   "id": "aaeb9650-dc03-46dc-8854-2ac22e1e202b",
   "metadata": {},
   "outputs": [
    {
     "data": {
      "text/plain": [
       "array([ 0,  1,  2,  3,  4,  5,  6,  7,  8,  9, 10, 11])"
      ]
     },
     "execution_count": 83,
     "metadata": {},
     "output_type": "execute_result"
    }
   ],
   "source": [
    "arr4"
   ]
  },
  {
   "cell_type": "code",
   "execution_count": 86,
   "id": "e81be28a-62f0-4f24-88be-473fef9dbde2",
   "metadata": {},
   "outputs": [
    {
     "data": {
      "text/plain": [
       "array(['Even', 'Odd', 'Even', 'Odd', 'Even', 'Odd', 'Even', 'Odd', 'Even',\n",
       "       'Odd', 'Even', 'Odd'], dtype='<U4')"
      ]
     },
     "execution_count": 86,
     "metadata": {},
     "output_type": "execute_result"
    }
   ],
   "source": [
    "np.where(arr4 % 2 == 0,\"Even\",\"Odd\")"
   ]
  },
  {
   "cell_type": "code",
   "execution_count": 88,
   "id": "0f06bdfb-5f07-4c53-9894-d72bf0cb3f0d",
   "metadata": {},
   "outputs": [],
   "source": [
    "arr11 = np.array([-3, 4, 27, 34, -2, 0, -45, -11, 4, 0])"
   ]
  },
  {
   "cell_type": "code",
   "execution_count": 89,
   "id": "666bcbac-2102-4cec-9711-046784cb3b75",
   "metadata": {},
   "outputs": [],
   "source": [
    "# - if element is > 0, change it to +1 : cond_1\n",
    "\n",
    "# - if element <= 0, change it to -1."
   ]
  },
  {
   "cell_type": "code",
   "execution_count": 91,
   "id": "84abc46e-eff9-43b5-bc97-884b1a54fccf",
   "metadata": {},
   "outputs": [
    {
     "data": {
      "text/plain": [
       "array([-1,  1,  1,  1, -1, -1, -1, -1,  1, -1])"
      ]
     },
     "execution_count": 91,
     "metadata": {},
     "output_type": "execute_result"
    }
   ],
   "source": [
    "np.where(arr11>0,1,-1)"
   ]
  },
  {
   "cell_type": "code",
   "execution_count": 92,
   "id": "0d460d78-0b63-4bc6-a6f1-e5a36e341da7",
   "metadata": {},
   "outputs": [
    {
     "data": {
      "text/plain": [
       "array([ 0,  1,  2,  3,  4,  5,  6,  7,  8,  9, 10, 11])"
      ]
     },
     "execution_count": 92,
     "metadata": {},
     "output_type": "execute_result"
    }
   ],
   "source": [
    "arr4"
   ]
  },
  {
   "cell_type": "code",
   "execution_count": 95,
   "id": "a5181b6a-3fd3-45a5-84c7-daaf2383522e",
   "metadata": {},
   "outputs": [
    {
     "data": {
      "text/plain": [
       "False"
      ]
     },
     "execution_count": 95,
     "metadata": {},
     "output_type": "execute_result"
    }
   ],
   "source": [
    "np.all(arr4 == 0)"
   ]
  },
  {
   "cell_type": "code",
   "execution_count": 96,
   "id": "66c39aab-f11f-4f4e-bdff-0b50ac7af2ed",
   "metadata": {},
   "outputs": [
    {
     "data": {
      "text/plain": [
       "True"
      ]
     },
     "execution_count": 96,
     "metadata": {},
     "output_type": "execute_result"
    }
   ],
   "source": [
    "np.any(arr4 == 0)"
   ]
  },
  {
   "cell_type": "code",
   "execution_count": null,
   "id": "0e0f7642-deee-4ee2-a810-589b54cb9ea4",
   "metadata": {},
   "outputs": [],
   "source": []
  }
 ],
 "metadata": {
  "kernelspec": {
   "display_name": "Python 3 (ipykernel)",
   "language": "python",
   "name": "python3"
  },
  "language_info": {
   "codemirror_mode": {
    "name": "ipython",
    "version": 3
   },
   "file_extension": ".py",
   "mimetype": "text/x-python",
   "name": "python",
   "nbconvert_exporter": "python",
   "pygments_lexer": "ipython3",
   "version": "3.11.2"
  }
 },
 "nbformat": 4,
 "nbformat_minor": 5
}
