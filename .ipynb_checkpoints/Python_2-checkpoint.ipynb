{
 "cells": [
  {
   "cell_type": "code",
   "execution_count": 2,
   "id": "4f4245e9-d916-483f-bc4d-b11dd7aebf1d",
   "metadata": {},
   "outputs": [
    {
     "name": "stdout",
     "output_type": "stream",
     "text": [
      "Sum is: 5\n"
     ]
    }
   ],
   "source": [
    "# 09-06-2025, Monday.\n",
    "# Functions.\n",
    "def add(num1, num2): #parameterised function.\n",
    "    return num1 + num2\n",
    "print(\"Sum is:\",add(2,3))"
   ]
  },
  {
   "cell_type": "code",
   "execution_count": 13,
   "id": "911ec9c2-e1fe-42b1-a930-6d665a306555",
   "metadata": {},
   "outputs": [
    {
     "name": "stdout",
     "output_type": "stream",
     "text": [
      "Amount withdrawn successfully \n",
      "Current Balance: 10000\n",
      "Amount deposited successfully \n",
      "Current Balance: 11000\n",
      "1. Withdraw\n",
      "2. Deposit\n"
     ]
    },
    {
     "name": "stdin",
     "output_type": "stream",
     "text": [
      "Enter your task: 1\n"
     ]
    },
    {
     "name": "stdout",
     "output_type": "stream",
     "text": [
      "Amount withdrawn successfully \n",
      "Current Balance: 5500\n"
     ]
    }
   ],
   "source": [
    "# Withdraw and Deposit.\n",
    "def withdraw(wb):\n",
    "    current_bal = 10500\n",
    "    if(current_bal >= wb and wb !=0):\n",
    "        current_bal -= wb\n",
    "        print(\"Amount withdrawn successfully \\nCurrent Balance:\",current_bal)\n",
    "withdraw(500)\n",
    "\n",
    "def deposit(db):\n",
    "    current_bal = 10500\n",
    "    if(db > 0):\n",
    "        current_bal += db\n",
    "        print(\"Amount deposited successfully \\nCurrent Balance:\",current_bal)\n",
    "deposit(500)\n",
    "\n",
    "print(\"1. Withdraw\")\n",
    "print(\"2. Deposit\")\n",
    "choice = int(input(\"Enter your task:\"))\n",
    "if choice == 1:\n",
    "    withdraw(5000)\n",
    "elif choice == 2:\n",
    "    deposit(5000)\n",
    "else:\n",
    "    print(\"Invalid option.\")"
   ]
  },
  {
   "cell_type": "code",
   "execution_count": 10,
   "id": "c7b670e4-e9cf-4c1a-98b8-511caf9f2ac1",
   "metadata": {},
   "outputs": [
    {
     "name": "stdout",
     "output_type": "stream",
     "text": [
      "Choose one skill to practice today:\n",
      "1. SQL\n",
      "2. Excel\n",
      "3. Python\n",
      "4. Power BI\n"
     ]
    },
    {
     "name": "stdin",
     "output_type": "stream",
     "text": [
      "Enter the number of your choice:  3\n"
     ]
    },
    {
     "name": "stdout",
     "output_type": "stream",
     "text": [
      "Great! You selected Python. Let's get started! 🚀\n"
     ]
    }
   ],
   "source": [
    "# Input functions.\n",
    "options = [\"SQL\", \"Excel\", \"Python\", \"Power BI\"]\n",
    "\n",
    "# Show numbered options\n",
    "print(\"Choose one skill to practice today:\")\n",
    "for i, option in enumerate(options, start=1):\n",
    "    print(f\"{i}. {option}\")\n",
    "\n",
    "# Get input\n",
    "choice = input(\"Enter the number of your choice: \")\n",
    "\n",
    "# Validate input\n",
    "while not (choice.isdigit() and 1 <= int(choice) <= len(options)):\n",
    "    print(\"Invalid choice. Please enter a valid number.\")\n",
    "    choice = input(\"Enter the number of your choice: \")\n",
    "\n",
    "# Get selected option\n",
    "selected_option = options[int(choice) - 1]\n",
    "print(f\"Great! You selected {selected_option}. Let's get started! 🚀\")"
   ]
  },
  {
   "cell_type": "code",
   "execution_count": 24,
   "id": "9418033f-aa4c-480a-856f-f612b0eb28bc",
   "metadata": {},
   "outputs": [
    {
     "name": "stdin",
     "output_type": "stream",
     "text": [
      "Enter any number: -55\n"
     ]
    },
    {
     "name": "stdout",
     "output_type": "stream",
     "text": [
      "-55 is not a Prime number.\n"
     ]
    }
   ],
   "source": [
    "# Create a function that gets 1 number and checks if the number is Prime or not.\n",
    "def isPrime(n):\n",
    "    if n <= 1:\n",
    "        print(n, \"is not a Prime number.\")\n",
    "    else:\n",
    "        for x in range(2, int(n ** 0.5) + 1):\n",
    "            if n % x == 0:\n",
    "                print(n, \"is not a Prime number.\")\n",
    "                return\n",
    "        print(n, \"is a Prime number.\")\n",
    "\n",
    "n = int(input(\"Enter any number:\"))\n",
    "isPrime(n)   "
   ]
  },
  {
   "cell_type": "code",
   "execution_count": 26,
   "id": "05299e85-75a1-4e7b-a794-ee81d6db6e52",
   "metadata": {},
   "outputs": [
    {
     "name": "stdout",
     "output_type": "stream",
     "text": [
      "Square is: 900\n"
     ]
    }
   ],
   "source": [
    "# 10-06-25, Tuesday.\n",
    "def add(a,b):\n",
    "    return a + b\n",
    "\n",
    "def square():\n",
    "    sum = add(10,20)\n",
    "    print(\"Square is:\", sum * sum)\n",
    "square()"
   ]
  },
  {
   "cell_type": "code",
   "execution_count": 31,
   "id": "1f6099dd-ba6c-41fc-967f-916f9da39799",
   "metadata": {},
   "outputs": [
    {
     "name": "stdin",
     "output_type": "stream",
     "text": [
      "Enter 1st number 3\n",
      "Enter 2nd number 3\n",
      "Enter 3rd number 3\n"
     ]
    },
    {
     "name": "stdout",
     "output_type": "stream",
     "text": [
      "All numbers are equal\n"
     ]
    },
    {
     "data": {
      "text/plain": [
       "-1"
      ]
     },
     "execution_count": 31,
     "metadata": {},
     "output_type": "execute_result"
    }
   ],
   "source": [
    "# WAP function which will take 3 numbers, check the max between them and return the max num. If all numbers are equal, return -1.\n",
    "def max():\n",
    "    n1 = int(input(\"Enter 1st number\"))\n",
    "    n2 = int(input(\"Enter 2nd number\"))\n",
    "    n3 = int(input(\"Enter 3rd number\"))\n",
    "    \n",
    "    if( n1 > n2 and n1 > n3):\n",
    "        print(n1,\"is maximum number.\")\n",
    "        return n1\n",
    "    elif( n1 < n2 and n2 > n3):\n",
    "        print(n2,\"is maximum number.\")\n",
    "        return n2\n",
    "    elif( n3 > n2 and n1 < n3):\n",
    "        print(n3,\"is maximum number.\")\n",
    "        return n3\n",
    "    elif( n1 == n2 == n3):\n",
    "        print(\"All numbers are equal\")\n",
    "        return -1\n",
    "    else:\n",
    "        print(\"END OF CASES...\")\n",
    "\n",
    "max()"
   ]
  },
  {
   "cell_type": "code",
   "execution_count": 58,
   "id": "450b7471-68ab-4288-9445-2713a270495f",
   "metadata": {},
   "outputs": [
    {
     "name": "stdout",
     "output_type": "stream",
     "text": [
      "List is: 4\n"
     ]
    },
    {
     "name": "stdin",
     "output_type": "stream",
     "text": [
      "Enter the key: 3\n"
     ]
    },
    {
     "name": "stdout",
     "output_type": "stream",
     "text": [
      "3 is present in the list...\n",
      "At index: 1\n"
     ]
    }
   ],
   "source": [
    "# Create a function which takes a list of integer numbers and a key, and checks if the key is present inside the list or not. If it is, return the index of the key; otherwise, return -1.\n",
    "def ifKey():\n",
    "    a = [2,3,4,5]\n",
    "    print(\"List is:\", a)\n",
    "    key = int(input(\"Enter the key:\"))\n",
    "    for x in range(len(a)):\n",
    "        if(a[x] == key):\n",
    "            print(key,\"is present in the list...\")\n",
    "            return print(\"At index:\",x)\n",
    "    print(key,\"is not present in the list...\")\n",
    "    return -1\n",
    "\n",
    "ifKey()"
   ]
  },
  {
   "cell_type": "code",
   "execution_count": 74,
   "id": "86128a41-17ee-47d6-9827-696ff8a720f2",
   "metadata": {},
   "outputs": [
    {
     "name": "stdin",
     "output_type": "stream",
     "text": [
      "enter 1\n"
     ]
    },
    {
     "name": "stdout",
     "output_type": "stream",
     "text": [
      "1\n"
     ]
    }
   ],
   "source": [
    "a = int(input(\"enter\"))\n",
    "print(a)"
   ]
  },
  {
   "cell_type": "code",
   "execution_count": 73,
   "id": "9a1105f0-548a-40c1-bded-09b02864bf63",
   "metadata": {},
   "outputs": [
    {
     "name": "stdout",
     "output_type": "stream",
     "text": [
      "\n",
      "1. Commercial Bill\n",
      "2. Residential Bill\n"
     ]
    },
    {
     "name": "stdin",
     "output_type": "stream",
     "text": [
      "Enter your choice: 3\n"
     ]
    },
    {
     "name": "stdout",
     "output_type": "stream",
     "text": [
      "Invalid choice.\n",
      "------------------------------------\n",
      "\n",
      "1. Commercial Bill\n",
      "2. Residential Bill\n"
     ]
    },
    {
     "name": "stdin",
     "output_type": "stream",
     "text": [
      "Enter your choice: 2\n",
      "Enter Current reading: 100\n",
      "Enter previous reading: 200\n"
     ]
    },
    {
     "name": "stdout",
     "output_type": "stream",
     "text": [
      "Previous reading is less than current reading.\n"
     ]
    }
   ],
   "source": [
    "# Electricity bill.\n",
    "def commercial_bill(current_reading, previous_reading):\n",
    "    if(current_reading > previous_reading):\n",
    "        unit_rate = 15\n",
    "        unit = current_reading - previous_reading\n",
    "        bill = unit_rate * unit\n",
    "        print(\"Your bill amount is:\", bill)\n",
    "    else:\n",
    "        print(\"Previous reading is less than current reading.\")\n",
    "\n",
    "def residential_bill(current_reading, previous_reading):\n",
    "    if(current_reading > previous_reading):\n",
    "        unit_rate = 10\n",
    "        unit = current_reading - previous_reading\n",
    "        bill = unit_rate * unit\n",
    "        print(\"Your bill amount is:\", bill)\n",
    "    else:\n",
    "        print(\"Previous reading is less than current reading.\")\n",
    "\n",
    "while True: #GPT Logic for invalid case.\n",
    "    print(\"\\n1. Commercial Bill\")\n",
    "    print(\"2. Residential Bill\")\n",
    "    choice = int(input(\"Enter your choice:\"))\n",
    "    if(choice == 1):\n",
    "        cr = int(input(\"Enter Current reading:\"))\n",
    "        pr = int(input(\"Enter previous reading:\"))\n",
    "        commercial_bill(cr, pr)\n",
    "        break #GPT optimisation.\n",
    "    elif(choice == 2):\n",
    "        cr = int(input(\"Enter Current reading:\"))\n",
    "        pr = int(input(\"Enter previous reading:\"))\n",
    "        residential_bill(cr, pr)\n",
    "        break\n",
    "    else:\n",
    "        print(\"Invalid choice.\")\n",
    "        print(\"------------------------------------\")"
   ]
  },
  {
   "cell_type": "code",
   "execution_count": 136,
   "id": "0e230062-b54a-499f-b20c-ca5721d80230",
   "metadata": {},
   "outputs": [
    {
     "name": "stdout",
     "output_type": "stream",
     "text": [
      "4\n",
      "[10, 20, 30, 40, 'Bugatti']\n",
      "[10, 20, 30, 40, 'Bugatti', 'Koenigsegg']\n",
      "Updated List: [10, 20, 30, 'Pagani', 'Bugatti', 'Koenigsegg']\n",
      "Length of List: 6\n",
      "-----------------------\n",
      "Updated List: [10, 20, 30, 'Pagani', 'Bugatti', 'Koenigsegg', 'Dubai']\n",
      "Updated List: [10, 'Monaco', 20, 30, 'Pagani', 'Bugatti', 'Koenigsegg', 'Dubai']\n",
      "Updated List: [10, 20, 30, 'Pagani', 'Bugatti', 'Koenigsegg', 'Dubai']\n",
      "Updated List: [10, 30, 'Pagani', 'Bugatti', 'Koenigsegg', 'Dubai']\n",
      "-----------------------\n",
      "Sorted l: [44, 30, 10, 9, 2]\n",
      "Reversed l: ['Dubai', 'Koenigsegg', 'Bugatti', 'Pagani', 30, 10]\n",
      "Extended l: ['Dubai', 'Koenigsegg', 'Bugatti', 'Pagani', 30, 10, 44, 30, 10, 9, 2]\n",
      "----------------------\n",
      "l3: ['Dubai', 'Koenigsegg', 'Bugatti', 'Pagani', 30, 10, 44, 30, 10, 9, 2]\n",
      "l4: ['Dubai', 'Koenigsegg', 'Bugatti', 'Pagani', 30, 10, 44, 30, 10, 9, 2]\n",
      "Original t: (20, 30, 40)\n",
      "Converted t to l5: [20, 30, 40]\n"
     ]
    }
   ],
   "source": [
    "# 11-06-25, Wednesday;\n",
    "# Ch. 1: Lists.\n",
    "# Created using []\n",
    "# Mutable.\n",
    "# Sequence Order Followed.\n",
    "# Index-based Data Structure.\n",
    "l = [10, 20, 30, 40, \"Bugatti\", \"Koenigsegg\"]\n",
    "print(l.index(\"Bugatti\")) #Index function.\n",
    "print(l[0:5])\n",
    "print(l[:]) #prints till end.\n",
    "l[3] = \"Pagani\"\n",
    "print(\"Updated List:\",l)\n",
    "print(\"Length of List:\",len(l))\n",
    "print(\"-----------------------\")\n",
    "l.append(\"Dubai\") #adds only 1 element.\n",
    "print(\"Updated List:\",l)\n",
    "l.insert(1, \"Monaco\") #index, element to be inserted.\n",
    "print(\"Updated List:\",l)\n",
    "l.remove(\"Monaco\")\n",
    "print(\"Updated List:\",l)\n",
    "l.pop(1)\n",
    "print(\"Updated List:\",l)\n",
    "print(\"-----------------------\")\n",
    "# l.clear()\n",
    "# del l\n",
    "# print(\"Updated List:\",l)\n",
    "l2 = [9,2,10,30,44]\n",
    "l2.sort(reverse = True) #For descending order. And only Homogeneous data type sorting is possible.\n",
    "print(\"Sorted l:\",l2)\n",
    "l.reverse()\n",
    "print(\"Reversed l:\", l)\n",
    "l.extend(l2)\n",
    "print(\"Extended l:\",l)\n",
    "print(\"----------------------\")\n",
    "l3 = l\n",
    "print(\"l3:\", l3)\n",
    "l4 = l.copy()\n",
    "print(\"l4:\", l4)\n",
    "t = (20, 30, 40)\n",
    "print(\"Original t:\",t)\n",
    "l5 = list(t)\n",
    "print(\"Converted t to l5:\",l5)"
   ]
  },
  {
   "cell_type": "code",
   "execution_count": 117,
   "id": "ee19f158-af08-4407-a088-513bbc97d369",
   "metadata": {},
   "outputs": [
    {
     "name": "stdout",
     "output_type": "stream",
     "text": [
      "Tuple: (10, 'Monaco', 20, 30, 20, 'Pagani', 'Bugatti', 'Koenigsegg', 'Dubai')\n",
      "Tuple[1]: Monaco\n",
      "Index is: 6\n",
      "2\n",
      "Length of t: 9\n"
     ]
    }
   ],
   "source": [
    "# Ch 2: Tuple.\n",
    "# Same as List, but it's immutable.\n",
    "t = (10, 'Monaco', 20, 30, 20, 'Pagani', 'Bugatti', 'Koenigsegg', 'Dubai')\n",
    "print(\"Tuple:\", t)\n",
    "print(\"Tuple[1]:\", t[1])\n",
    "# t[1] = \"Monaco\"\n",
    "# t.append(\"ABC\")\n",
    "# t.insert(1,\"ABC\")\n",
    "print(\"Index is:\",t.index(\"Bugatti\"))\n",
    "# t.pop() #Attribute error.\n",
    "print(t.count(20)) #Counts the occurance of the elements.\n",
    "print(\"Length of t:\", len(t))\n",
    "# del t\n",
    "# print(t)"
   ]
  },
  {
   "cell_type": "code",
   "execution_count": 125,
   "id": "d01fe69e-33ef-4dcc-b45e-b21750b343cd",
   "metadata": {},
   "outputs": [
    {
     "name": "stdout",
     "output_type": "stream",
     "text": [
      "Before swapping: 10 20\n",
      "After swapping: 20 10\n",
      "-----------\n",
      "Before swapping: 30 40\n",
      "After swapping: 40 30\n"
     ]
    }
   ],
   "source": [
    "# Swapping 2 numbers\n",
    "# 1. Using 3rd variable.\n",
    "a = 10\n",
    "b = 20\n",
    "t = 0\n",
    "print(\"Before swapping:\", a,b)\n",
    "t = a\n",
    "a = b\n",
    "b = t\n",
    "print(\"After swapping:\", a,b)\n",
    "print(\"-----------\")\n",
    "# Without 3rd variable.\n",
    "c = 30\n",
    "d = 40\n",
    "\n",
    "print(\"Before swapping:\", c, d)\n",
    "\n",
    "c = c + d\n",
    "d = c - d\n",
    "c = c - d\n",
    "\n",
    "print(\"After swapping:\", c, d)"
   ]
  },
  {
   "cell_type": "code",
   "execution_count": 163,
   "id": "428b3ed7-b1a6-4b46-bd74-bd4724b446f6",
   "metadata": {},
   "outputs": [
    {
     "name": "stdout",
     "output_type": "stream",
     "text": [
      "Set: {40, 10, 20, 30}\n",
      "Updated Set: {40, 10, 12, 50, 20, 21, 26, 30}\n",
      "Set with List: {40, 10, 12, 80, 50, 20, 21, 26, 30}\n",
      "After removal: {40, 10, 12, 80, 50, 20, 21, 26}\n",
      "Discard: {40, 10, 12, 80, 50, 20, 21, 26}\n",
      "Union: {40, 10, 12, 80, 50, 20, 21, 26}\n",
      "Union s4: {70, 40, 10, 12, 80, 50, 20, 21, 26, 60, 30}\n",
      "Intersection: {20, 30}\n",
      "Intersection Update: None\n",
      "After Intersection Update: {20, 30}\n"
     ]
    }
   ],
   "source": [
    "# 12-06-25, Thursday.\n",
    "# Sets. \n",
    "# 1. It's Mutable.\n",
    "# 2. Elements are immutable.\n",
    "# Isn't sequentially ordered.\n",
    "# {}\n",
    "# No indexing.\n",
    "# Data is randomly added.\n",
    "\n",
    "s = {10, 20, 30}\n",
    "s2 = {50, 60, 70}\n",
    "l = [10, 20, 80]\n",
    "s2 = {10,12,21,26,30,50}\n",
    "s3 = {20, 21, 26, 60, 70}\n",
    "s.add(40)\n",
    "print(\"Set:\",s)\n",
    "s.update(s2)\n",
    "print(\"Updated Set:\",s)\n",
    "s.update(l)\n",
    "print(\"Set with List:\",s)\n",
    "s.remove(30) #throws error if element is not present.\n",
    "print(\"After removal:\",s)\n",
    "s.discard(600) #No error if element is not present.\n",
    "print(\"Discard:\",s)\n",
    "s4 = s.union(s2, s3) #Union returns a new set, update changes the same set.\n",
    "print(\"Union:\",s)\n",
    "print(\"Union s4:\",s4)\n",
    "s5 = {10, 20, 30}\n",
    "s6 = {20, 30, 40}\n",
    "s7 = s5.intersection(s6)\n",
    "print(\"Intersection:\",s7)\n",
    "s8 = {10, 20, 30}\n",
    "s9 = {20, 30, 40}\n",
    "print(\"Intersection Update:\", s8.intersection_update(s9))\n",
    "print(\"After Intersection Update:\",s8) #Changes the original set."
   ]
  },
  {
   "cell_type": "code",
   "execution_count": 199,
   "id": "5300790a-f81a-412f-830d-97cc813e7fbf",
   "metadata": {},
   "outputs": [
    {
     "name": "stdout",
     "output_type": "stream",
     "text": [
      "Dictionary: {1: 'Bugatti', 2: 'Koenigsegg', 3: 'Pagani', 4: 'Devel'}\n",
      "1: Bugatti\n",
      "2: Koenigsegg\n",
      "3: Pagani\n",
      "4: Devel\n",
      "Length of Dictionary: 4\n",
      "Get: Bugatti\n",
      "Keys: dict_keys([1, 2, 3, 4])\n",
      "Values: dict_values(['Bugatti', 'Koenigsegg', 'Pagani', 'Devel'])\n",
      "Items: dict_items([(1, 'Bugatti'), (2, 'Koenigsegg'), (3, 'Pagani'), (4, 'Devel')])\n",
      "Added elements: {1: 'Bugatti', 2: 'Koenigsegg', 3: 'Pagani', 4: 'Devel', 5: 'Lamborghni', 6: 'Ferrari'}\n",
      "Removed elements: {1: 'Bugatti', 2: 'Koenigsegg', 3: 'Pagani'}\n",
      "Copied d2: {1: 'Bugatti', 2: 'Koenigsegg', 3: 'Pagani'}\n"
     ]
    }
   ],
   "source": [
    "# Dictionary.\n",
    "# key : value pairs.\n",
    "# Ordered\n",
    "# Keys are unique, elements can be duplicates.\n",
    "d = {\n",
    "    1 : \"Bugatti\",\n",
    "    2 : \"Koenigsegg\",\n",
    "    3 : \"Pagani\",\n",
    "    4 : \"Devel\"\n",
    "}\n",
    "print(\"Dictionary:\",d)\n",
    "print(\"1:\",d[1])\n",
    "print(\"2:\",d[2])\n",
    "print(\"3:\",d[3])\n",
    "print(\"4:\",d[4])\n",
    "print(\"Length of Dictionary:\",len(d))\n",
    "print(\"Get:\",d.get(1))\n",
    "print(\"Keys:\",d.keys())\n",
    "print(\"Values:\",d.values())\n",
    "print(\"Items:\",d.items())\n",
    "d[5] = \"Lamborghni\"\n",
    "d.update({6: \"Ferrari\"})\n",
    "print(\"Added elements:\",d)\n",
    "del d[6]\n",
    "d.pop(4)\n",
    "d.popitem()\n",
    "print(\"Removed elements:\",d)\n",
    "# d.clear()\n",
    "# print(\"Cleared Dictionary:\",d)\n",
    "d2 = {\n",
    "    4 : \"Devel\",\n",
    "    5 : \"Ferrari\",\n",
    "    6 : \"Lamborghini\"\n",
    "}\n",
    "d2 = d.copy()\n",
    "print(\"Copied d to d2:\", d2)\n",
    "# del d\n",
    "# print(d)"
   ]
  },
  {
   "cell_type": "code",
   "execution_count": 28,
   "id": "954ca8db-7ff0-47d7-9ae0-624b75e54300",
   "metadata": {},
   "outputs": [
    {
     "name": "stdout",
     "output_type": "stream",
     "text": [
      "5\n",
      "Capitalize: India\n",
      "Ends With: True\n",
      "Starts With: True\n",
      "Index of 'is': 7\n",
      "Index of 'is': -1\n",
      "isalnum: True\n",
      "isalpha: False\n"
     ]
    }
   ],
   "source": [
    "# 13-06-25, Friday.\n",
    "# Strings\n",
    "#  '''Multiline string '''\n",
    "# Indexed\n",
    "name = \"Dubai\"\n",
    "print(len(name))\n",
    "country =\"india\"\n",
    "print(\"Capitalize:\",country.capitalize())\n",
    "print(\"Ends With:\",country.endswith(\"ia\"))\n",
    "print(\"Starts With:\",country.startswith(\"in\"))\n",
    "a = \"Python is easy.\"\n",
    "print(\"Index of 'is':\",a.index(\"is\")) #prints index of first occurance of given string. We can also pass start and end in the arguments: index(\"str\", start, end)\n",
    "print(\"Index of 'is':\",a.find(\"isa\")) #prints -1 if the given string is not present instead of throwing an error.\n",
    "b = \"valar1\"\n",
    "print(\"isalnum:\",b.isalnum()) # Spaces and symbols aren't alphabets or numbers.\n",
    "print(\"isalpha:\",b.isalpha()) # Spaces and symbols aren't alphabets."
   ]
  },
  {
   "cell_type": "code",
   "execution_count": 2,
   "id": "830059d5-b51e-4957-a149-78b048938dd5",
   "metadata": {},
   "outputs": [
    {
     "name": "stdin",
     "output_type": "stream",
     "text": [
      "Enter your name qwe\n"
     ]
    },
    {
     "name": "stdout",
     "output_type": "stream",
     "text": [
      "qwe is completely alphabetic.\n"
     ]
    }
   ],
   "source": [
    "# WAP to check if the name is alphabetical only or not.\n",
    "name = input(\"Enter your name\")\n",
    "if(name.isalpha()):\n",
    "    print(name,\"is completely alphabetic.\")\n",
    "else:\n",
    "    print(name,\"Can't be anything other than character.\")"
   ]
  },
  {
   "cell_type": "code",
   "execution_count": 4,
   "id": "f7b3f5be-3fc2-4bb0-b095-36a78d3ad9a6",
   "metadata": {},
   "outputs": [
    {
     "name": "stdin",
     "output_type": "stream",
     "text": [
      "Enter your number qwe\n"
     ]
    },
    {
     "name": "stdout",
     "output_type": "stream",
     "text": [
      "qwe Can't be anything other than number.\n"
     ]
    }
   ],
   "source": [
    "# WAP to check if the numbers is numeric only or not.\n",
    "num = input(\"Enter your number\")\n",
    "if(num.isdigit()):\n",
    "    print(num,\"is completely numeric.\")\n",
    "else:\n",
    "    print(num,\"Can't be anything other than number.\")"
   ]
  },
  {
   "cell_type": "code",
   "execution_count": 28,
   "id": "f0ad9794-7cea-445a-a16b-0bff8edac299",
   "metadata": {},
   "outputs": [
    {
     "name": "stdout",
     "output_type": "stream",
     "text": [
      "wakanda\n",
      "FOREVER\n",
      "Wakanda-forever\n",
      "String:  Valar Morghulis \n",
      "Stripped String: Valar Morghulis\n",
      "Stripped R String:  Valar Morghulis\n",
      "Stripped L String: Valar Morghulis \n",
      "is space: True\n",
      "Original: Python is Easy.\n",
      "Replaced: SQL is Easy.\n",
      "Character: Valar Morghulis, Wakanda Forever. \n",
      "Count: 5\n",
      "Sl 2:  dia\n",
      "Sl 0: 3 Ind\n",
      "Sl -1: -3  ndi\n"
     ]
    }
   ],
   "source": [
    "# Lower and upper\n",
    "low = \"Wakanda\"\n",
    "up = \"forever\"\n",
    "print(low.lower())\n",
    "print(up.upper())\n",
    "# Join\n",
    "print(\"-\".join([low, up]))\n",
    "# Strip\n",
    "st = \" Valar Morghulis \"\n",
    "print(\"String:\",st)\n",
    "print(\"Stripped String:\",st.strip())\n",
    "print(\"Stripped R String:\",st.rstrip())\n",
    "print(\"Stripped L String:\",st.lstrip())\n",
    "# isspace.\n",
    "a = \" \"\n",
    "print(\"is space:\",a.isspace())\n",
    "# Replace\n",
    "rep = \"Python is Easy.\"\n",
    "print(\"Original:\",rep)\n",
    "print(\"Replaced:\", rep.replace(\"Python\",\"SQL\"))\n",
    "# count\n",
    "ch = \"Valar Morghulis, Wakanda Forever.\"\n",
    "print(\"Character:\",ch,\"\\nCount:\", ch.count(\"a\"))\n",
    "sl = \"India\"\n",
    "print(\"Sl 2: \",sl[2: ])\n",
    "print(\"Sl 0: 3\",sl[0:3])\n",
    "print(\"Sl -1: -3 \",sl[-4: -1])"
   ]
  },
  {
   "cell_type": "code",
   "execution_count": 48,
   "id": "5f1f0689-9696-4816-9a02-cb29246dd4c3",
   "metadata": {},
   "outputs": [
    {
     "name": "stdin",
     "output_type": "stream",
     "text": [
      "Enter a string: qwerty\n"
     ]
    },
    {
     "name": "stdout",
     "output_type": "stream",
     "text": [
      "Result String: qwty\n"
     ]
    }
   ],
   "source": [
    "# WAP to get a string made up of 1st 2 and last 2 characters of the given string, if the string length is < 2, then return \"string shall be > 1\".\n",
    "string = input(\"Enter a string:\")\n",
    "if(len(string) < 2):\n",
    "    \"String shall be greater than 1 character.\"\n",
    "elif(string.isalpha() == False):\n",
    "    print(\"String must be alphabetic only.\")\n",
    "else:\n",
    "    print(\"Resultant String:\", string[0:2]+string[-2:len(string)])"
   ]
  },
  {
   "cell_type": "code",
   "execution_count": 51,
   "id": "c9419e0a-f30c-444a-b0a7-8ad3b7086ebe",
   "metadata": {},
   "outputs": [
    {
     "name": "stdin",
     "output_type": "stream",
     "text": [
      "Enter 1st String: Valar\n",
      "Enter 2nd String: Morghulis\n"
     ]
    },
    {
     "name": "stdout",
     "output_type": "stream",
     "text": [
      "Resultant String: Molar Varghulis\n"
     ]
    }
   ],
   "source": [
    "# WAP to get a single string from 2 given strings separated by a space & swap the 1st character of each string.\n",
    "in1 = input(\"Enter 1st String:\")\n",
    "in2 = input(\"Enter 2nd String:\")\n",
    "if(in1.isalpha() == False and in2.isalpha == False):\n",
    "    print(\"Strings must be alphabetic only.\")\n",
    "else:\n",
    "    print(\"Resultant String:\", in1.replace(in1[0:2],in2[0:2]) + \" \" + in2.replace(in2[0:2],in1[0:2]))"
   ]
  },
  {
   "cell_type": "code",
   "execution_count": null,
   "id": "fe57a05f-af2e-4d5c-ba1b-f52deab05fe3",
   "metadata": {},
   "outputs": [],
   "source": [
    "# 16-06-25, Monday;\n"
   ]
  }
 ],
 "metadata": {
  "kernelspec": {
   "display_name": "Python 3 (ipykernel)",
   "language": "python",
   "name": "python3"
  },
  "language_info": {
   "codemirror_mode": {
    "name": "ipython",
    "version": 3
   },
   "file_extension": ".py",
   "mimetype": "text/x-python",
   "name": "python",
   "nbconvert_exporter": "python",
   "pygments_lexer": "ipython3",
   "version": "3.12.3"
  }
 },
 "nbformat": 4,
 "nbformat_minor": 5
}
