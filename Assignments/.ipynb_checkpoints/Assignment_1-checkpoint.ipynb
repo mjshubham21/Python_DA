{
 "cells": [
  {
   "cell_type": "code",
   "execution_count": 13,
   "id": "5d9474e1-a735-4300-aef0-2a0f90610fb9",
   "metadata": {},
   "outputs": [
    {
     "name": "stdout",
     "output_type": "stream",
     "text": [
      "Set 1:\n",
      "Q1. Soloution:\n",
      "Name: Shubham Pawar\n",
      "Favourite Colour: Matte Black\n",
      "------------------------------\n",
      "Q2. Soloution:\n",
      "Sum of 7 & 8 is: 15\n",
      "------------------------------\n",
      "Q3. Soloution:\n",
      "Python is fun!\n",
      "Let's Learn together.\n",
      "------------------------------\n",
      "Q4. Soloution:\n",
      "Product of 6 & 9 is: 54\n",
      "------------------------------\n",
      "Q5. Soloution:\n",
      "Sum of 5 + 5 is: 10 \n",
      "And Product of 2 * 3 is: 6\n",
      "------------------------------\n",
      "Set 2:\n",
      "Q1. Soloution:\n"
     ]
    },
    {
     "name": "stdin",
     "output_type": "stream",
     "text": [
      "Enter Your Name: mj\n"
     ]
    },
    {
     "name": "stdout",
     "output_type": "stream",
     "text": [
      "Hello mj\n",
      "------------------------------\n",
      "Q2. Soloution:\n",
      "Your current savings are: 10000\n"
     ]
    },
    {
     "name": "stdin",
     "output_type": "stream",
     "text": [
      "Enter Y amount via Google Pay: 1000\n"
     ]
    },
    {
     "name": "stdout",
     "output_type": "stream",
     "text": [
      "Your updated balance is: 9000.0\n",
      "------------------------------\n",
      "Q3. Soloution:\n",
      "1st 5 letters of alphabet:\n",
      "A\n",
      "B\n",
      "C\n",
      "D\n",
      "E\n",
      "------------------------------\n",
      "Q1. Soloution:\n"
     ]
    },
    {
     "name": "stdin",
     "output_type": "stream",
     "text": [
      "Enter Name 1: Wakanda\n",
      "Enter Name 2: Forever\n"
     ]
    },
    {
     "name": "stdout",
     "output_type": "stream",
     "text": [
      "Wakanda says Hello to Forever\n",
      "------------------------------\n"
     ]
    }
   ],
   "source": [
    "# 20-06-25, Friday:\n",
    "# Assignment 1:\n",
    "print(\"Set 1:\")\n",
    "\n",
    "#  Here are the questions without the code:\n",
    "#  1. Question 1:\n",
    "#  Write a Python program to print your name and favourite colour on two separate lines.\n",
    "# ==>\n",
    "print(\"Q1. Soloution:\")\n",
    "print(\"Name: Shubham Pawar\")\n",
    "print(\"Favourite Colour: Matte Black\")\n",
    "print(\"------------------------------\")\n",
    "\n",
    "#  2. Question 2:\n",
    "#  Write a Python program that prints the result of adding 7 and 8.\n",
    "# ==>\n",
    "print(\"Q2. Soloution:\")\n",
    "print(\"Sum of 7 & 8 is:\", 7+8)\n",
    "print(\"------------------------------\")\n",
    "\n",
    "#  3. Question 3:\n",
    "#  Use the print function to display the following text exactly as it is:\n",
    "#  Python is fun!\n",
    "#  Let's learn together.\n",
    "# ==>\n",
    "print(\"Q3. Soloution:\")\n",
    "print(\"Python is fun!\")\n",
    "print(\"Let's Learn together.\")\n",
    "print(\"------------------------------\")\n",
    "\n",
    "#  4. Question 4:\n",
    "#  Write a Python program to calculate and print the result of multiplying 6 by 9.\n",
    "# ==>\n",
    "print(\"Q4. Soloution:\")\n",
    "print(\"Product of 6 & 9 is:\", 6*9)\n",
    "print(\"------------------------------\")\n",
    "\n",
    "#  5. Question 5:\n",
    "#  Write a Python program that prints the result of adding 5 + 5 and multiplying 2 * 3 in a single line of code.\n",
    "# ==>\n",
    "print(\"Q5. Soloution:\")\n",
    "print(\"Sum of 5 + 5 is:\", 5 + 5,\"\\nAnd Product of 2 * 3 is:\", 2* 3)\n",
    "print(\"------------------------------\")\n",
    "print(\"Set 2:\")\n",
    "\n",
    "#  1. Take the name A as input from the user and print \"Hello A\", where A is the name in input.\n",
    "# ==>\n",
    "print(\"Q1. Soloution:\")\n",
    "a = input(\"Enter Your Name:\")\n",
    "print(\"Hello\", a)\n",
    "print(\"------------------------------\")\n",
    "\n",
    "#  2. You have x rupees in your savings. You Google Pay y rupees, print your bank balance\n",
    "# ==>\n",
    "print(\"Q2. Soloution:\")\n",
    "x = 10000\n",
    "print(\"Your current savings are:\", x)\n",
    "y = float(input(\"Enter Y amount via Google Pay:\"))\n",
    "print(\"Your updated balance is:\", x - y)\n",
    "print(\"------------------------------\")\n",
    "\n",
    "#  3. Print the first five letters of the English alphabet, i.e. A, B, C, D and E., one below each other\n",
    "# ==>\n",
    "print(\"Q3. Soloution:\")\n",
    "print(\"1st 5 letters of alphabet:\")\n",
    "alp = [\"A\", \"B\", \"C\", \"D\", \"E\", \"F\", \"G\"]\n",
    "for x in range(5):\n",
    "    print(alp[x])\n",
    "print(\"------------------------------\")\n",
    "\n",
    "#  4. Take two names, A and B, as input from the user, and print \"A says Hi to B\" (Without quotations), where A and B are the names in input.\n",
    "# ==>\n",
    "print(\"Q1. Soloution:\")\n",
    "a = input(\"Enter Name 1:\")\n",
    "b = input(\"Enter Name 2:\")\n",
    "print(a,\"says Hello to\", b)\n",
    "print(\"------------------------------\")"
   ]
  }
 ],
 "metadata": {
  "kernelspec": {
   "display_name": "Python 3 (ipykernel)",
   "language": "python",
   "name": "python3"
  },
  "language_info": {
   "codemirror_mode": {
    "name": "ipython",
    "version": 3
   },
   "file_extension": ".py",
   "mimetype": "text/x-python",
   "name": "python",
   "nbconvert_exporter": "python",
   "pygments_lexer": "ipython3",
   "version": "3.12.3"
  }
 },
 "nbformat": 4,
 "nbformat_minor": 5
}
