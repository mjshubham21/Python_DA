{
 "cells": [
  {
   "cell_type": "code",
   "execution_count": 11,
   "metadata": {},
   "outputs": [
    {
     "name": "stdout",
     "output_type": "stream",
     "text": [
      "2 is even.\n"
     ]
    }
   ],
   "source": [
    "# Assignment 4 – Conditionals, Comparisons, and Input\n",
    "\n",
    "# Question 1:\n",
    "# Write a Python program that checks if a number entered by the user is even or odd.\n",
    "# Print \"Even\" if the number is even and \"Odd\" if it is odd.\n",
    "\n",
    "num = int(input(\"Enter a Number:\"))\n",
    "\n",
    "if( num % 2 ==0):\n",
    "    print(num, \"is even.\")\n",
    "else:\n",
    "    print(num, \"is odd.\")"
   ]
  },
  {
   "cell_type": "code",
   "execution_count": 18,
   "metadata": {},
   "outputs": [
    {
     "name": "stdout",
     "output_type": "stream",
     "text": [
      "Enter a valid age.\n",
      "------------------\n",
      "You are a teenager.\n"
     ]
    }
   ],
   "source": [
    "# Question 2:\n",
    "# Create a program that prompts the user for their age and prints whether they are a child (0–12),\n",
    "# teenager (13–19), or adult (20 and above).\n",
    "\n",
    "while True:\n",
    "\n",
    "    try:\n",
    "        age = int(input(\"Enter your age:\"))\n",
    "        if(0 < age < 13):\n",
    "            print(\"You are a child\")\n",
    "            break\n",
    "        elif(12 < age < 20):\n",
    "            print(\"You are a teenager.\")\n",
    "            break\n",
    "        elif(19 < age):\n",
    "            print(\"You are an adult.\")\n",
    "            break\n",
    "        else:\n",
    "            print(\"Enter a valid age.\")\n",
    "            print(\"------------------\")\n",
    "    except ValueError:\n",
    "            print(\"Enter a valid value.\")\n",
    "            print(\"------------------\")\n",
    "        "
   ]
  },
  {
   "cell_type": "code",
   "execution_count": 20,
   "metadata": {},
   "outputs": [
    {
     "name": "stdout",
     "output_type": "stream",
     "text": [
      "Enter valid numbers.\n",
      "Enter valid numbers.\n",
      "26 & 26 are equal.\n"
     ]
    }
   ],
   "source": [
    "# Question 3:\n",
    "# Write a program that takes two numbers as input from the user and prints which number is larger.\n",
    "# If both numbers are equal, print \"Both numbers are equal.\"\n",
    "\n",
    "while True:\n",
    "    try:\n",
    "        n1 = int(input(\"Enter 1st number\"))\n",
    "        n2 = int(input(\"Enter 2nd number\"))\n",
    "        if n1 == n2:\n",
    "            print(f\"{n1} & {n2} are equal.\")\n",
    "            break\n",
    "        elif n1 > n2:\n",
    "            print(f\"{n1} is greater than {n2}.\")\n",
    "            break\n",
    "        elif n1 < n2:\n",
    "            print(f\"{n2} is greater than {n1}.\")\n",
    "            break\n",
    "    except:\n",
    "        print(\"Enter valid numbers.\")"
   ]
  },
  {
   "cell_type": "code",
   "execution_count": 2,
   "metadata": {},
   "outputs": [
    {
     "name": "stdout",
     "output_type": "stream",
     "text": [
      "Access Denied.\n"
     ]
    }
   ],
   "source": [
    "# Question 4:\n",
    "# Create a program that checks if a user-entered password matches the string \"securePassword\".\n",
    "# Print \"Access Granted\" if it matches, otherwise print \"Access Denied.\"\n",
    "\n",
    "while True:\n",
    "    try:\n",
    "        password = input(\"Enter the password:\")\n",
    "        if password == \"securePassword\":\n",
    "            print(\"Access Granted.\")\n",
    "            break\n",
    "        else:\n",
    "            print(\"Access Denied.\")\n",
    "            break\n",
    "    except:\n",
    "        print(\"Enter a correct value...\")\n"
   ]
  },
  {
   "cell_type": "code",
   "execution_count": 13,
   "metadata": {},
   "outputs": [
    {
     "name": "stdout",
     "output_type": "stream",
     "text": [
      "Enter a valid score.\n",
      " invalid literal for int() with base 10: 'ugh'\n",
      "--------------------------\n",
      "Grade based of your score of: 74\n",
      "C Grade\n"
     ]
    }
   ],
   "source": [
    "# Question 5:\n",
    "# Write a program that takes a score from the user (0–100) and prints the corresponding grade:\n",
    "# A for 90–100\n",
    "# B for 80–89\n",
    "# C for 70–79\n",
    "# D for 60–69\n",
    "# F for below 60\n",
    "while True:\n",
    "    try:\n",
    "        score = int(input(\"Enter your score:\"))\n",
    "        print(\"Grade based of your score of:\", score)\n",
    "        if 89 < score < 100:\n",
    "            print(\"A Grade\")\n",
    "            break\n",
    "        if 79 < score < 90:\n",
    "            print(\"B Grade\")\n",
    "            break\n",
    "        if 69 < score < 80:\n",
    "            print(\"C Grade\")\n",
    "            break\n",
    "        if 59 < score < 70:\n",
    "            print(\"D Grade\")\n",
    "            break\n",
    "        if score < 60:\n",
    "            print(\"F\")\n",
    "            break\n",
    "    except Exception as e:\n",
    "        print(\"Enter a valid score.\\n\",e)\n",
    "        print(\"--------------------------\")"
   ]
  },
  {
   "cell_type": "code",
   "execution_count": 8,
   "metadata": {},
   "outputs": [
    {
     "name": "stdout",
     "output_type": "stream",
     "text": [
      "Enter a valid integer value.\n",
      "--------------------------\n",
      "100 is Positive.\n"
     ]
    }
   ],
   "source": [
    "# Question 6:\n",
    "# Create a program that asks the user for a number and checks if it is positive, negative, or zero.\n",
    "# Print the corresponding message.\n",
    "\n",
    "while True:\n",
    "    try:\n",
    "        num = int(input(\"Enter a number:\"))\n",
    "        if num < 0:\n",
    "            print(num, \"is Negative.\")\n",
    "            break\n",
    "        elif num == 0:\n",
    "            print(num, \"is Zero.\")\n",
    "            break\n",
    "        elif num > 0:\n",
    "            print(num, \"is Positive.\")\n",
    "            break\n",
    "    except:\n",
    "        print(\"Enter a valid integer value.\")\n",
    "        print(\"--------------------------\")"
   ]
  },
  {
   "cell_type": "code",
   "execution_count": 18,
   "metadata": {},
   "outputs": [
    {
     "name": "stdout",
     "output_type": "stream",
     "text": [
      "26 is greater than 21 & 24.\n"
     ]
    }
   ],
   "source": [
    "# Question 7:\n",
    "# Write a program that takes three numbers from the user and determines the largest of the three.\n",
    "# Print the largest number.\n",
    "while True:\n",
    "    try:\n",
    "        n1 = int(input(\"Enter 1st number\"))\n",
    "        n2 = int(input(\"Enter 2nd number\"))\n",
    "        n3 = int(input(\"Enter 3rd number\"))\n",
    "        if n1 == n2 == n2:\n",
    "            print(f\"{n1}, {n2} & {n3} are equal.\")\n",
    "            break\n",
    "        elif n1 > n2 and  n1 > n3:\n",
    "            print(f\"{n1} is greater than {n2} & {n3}.\")\n",
    "            break\n",
    "        elif n1 < n2 and  n2 > n3:\n",
    "            print(f\"{n2} is greater than {n1} & {n3}.\")\n",
    "            break\n",
    "        elif n3 > n2 and  n1 < n3:\n",
    "            print(f\"{n3} is greater than {n2} & {n1}.\")\n",
    "            break\n",
    "    except:\n",
    "        print(\"Enter valid numbers.\")\n"
   ]
  },
  {
   "cell_type": "code",
   "execution_count": 2,
   "metadata": {},
   "outputs": [
    {
     "name": "stdout",
     "output_type": "stream",
     "text": [
      "Please enter exactly one alphabet letter (a-z or A-Z).\n",
      "-------------------------------------\n",
      "I is a Vowel.\n"
     ]
    }
   ],
   "source": [
    "# Question 8:\n",
    "# Create a program that checks if a user-entered character is a vowel (a, e, i, o, u) or a consonant.\n",
    "# Print the corresponding message.\n",
    "\n",
    "while True:\n",
    "    try:\n",
    "        ch = input(\"Enter a character:\")\n",
    "\n",
    "        if len(ch) != 1 or not ch.isalpha(): #This if condition is from ChatGPT.\n",
    "            print(\"Please enter exactly one alphabet letter (a-z or A-Z).\")\n",
    "            print(\"-------------------------------------\")\n",
    "            continue\n",
    "\n",
    "        if ch.lower() in [\"a\", \"e\", \"i\", \"o\", \"u\"]:\n",
    "            print(ch,\"is a Vowel.\")\n",
    "            break\n",
    "        else:\n",
    "            print(ch,\"is a Consonant.\")\n",
    "            break\n",
    "    except Exception as e:\n",
    "        print(\"Enter a valid character...\\n\", e)"
   ]
  },
  {
   "cell_type": "code",
   "execution_count": 4,
   "metadata": {},
   "outputs": [
    {
     "name": "stdout",
     "output_type": "stream",
     "text": [
      "Enter a valid Year.\n",
      "invalid literal for int() with base 10: 'jhv'\n",
      "2028 is a leap year.\n"
     ]
    }
   ],
   "source": [
    "# Question 9:\n",
    "# Write a program that checks if a given year is a leap year.\n",
    "# A year is a leap year if it is divisible by 4, except for years that are divisible by 100 but not divisible by 400.\n",
    "\n",
    "while True:\n",
    "    try:\n",
    "        year = int(input(\"Enter the Year:\"))\n",
    "        if (year % 4 == 0 and year % 100 != 0) or (year % 400 == 0):\n",
    "            print(year, \"is a leap year.\")\n",
    "            break\n",
    "        else:\n",
    "            print(year, \"is not a leap year.\")\n",
    "    except Exception as e:\n",
    "        print(\"Enter a valid Year.\")\n",
    "        print(e)"
   ]
  },
  {
   "cell_type": "code",
   "execution_count": 6,
   "metadata": {},
   "outputs": [
    {
     "name": "stdout",
     "output_type": "stream",
     "text": [
      "Temparature: In Celcius: 21 | In Fahrenheit: 69.80000000000001\n",
      "It's not boiling yet.\n"
     ]
    }
   ],
   "source": [
    "# Question 10:\n",
    "# Create a program that prompts the user for a temperature in Celsius and converts it to Fahrenheit.\n",
    "# If the converted temperature is greater than 100°F, print \"It's boiling!\" Otherwise, print \"It's not boiling yet.\"\n",
    "\n",
    "while True:\n",
    "    try:\n",
    "        tempInC = int(input(\"Enter temparature in Celcius:\"))\n",
    "        tempInF = (tempInC * 1.8) + 32\n",
    "        print(f\"Temparature: In Celcius: {tempInC} | In Fahrenheit: {tempInF}\")\n",
    "        if tempInF > 100:\n",
    "            print(\"It's boiling.\")\n",
    "            break\n",
    "        else:\n",
    "            print(\"It's not boiling yet.\")\n",
    "            break\n",
    "    except Exception as e:\n",
    "        print(\"Enter a valid temparature...\\n\", e)"
   ]
  }
 ],
 "metadata": {
  "kernelspec": {
   "display_name": "Python 3",
   "language": "python",
   "name": "python3"
  },
  "language_info": {
   "codemirror_mode": {
    "name": "ipython",
    "version": 3
   },
   "file_extension": ".py",
   "mimetype": "text/x-python",
   "name": "python",
   "nbconvert_exporter": "python",
   "pygments_lexer": "ipython3",
   "version": "3.12.3"
  }
 },
 "nbformat": 4,
 "nbformat_minor": 2
}
