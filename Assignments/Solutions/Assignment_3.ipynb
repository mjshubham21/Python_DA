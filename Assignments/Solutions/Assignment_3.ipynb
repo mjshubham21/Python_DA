{
 "cells": [
  {
   "cell_type": "code",
   "execution_count": 3,
   "metadata": {},
   "outputs": [
    {
     "name": "stdout",
     "output_type": "stream",
     "text": [
      "Floor division of 15 by 4 (15//4) is: 3\n",
      "Regular division of 15 by 4 (15/4) is: 3.75\n"
     ]
    }
   ],
   "source": [
    "# Assignment 3\n",
    "# Question 1:\n",
    "# Create a variable x with the value 15.\n",
    "# Perform floored division by 4 and print the result.\n",
    "# What is the difference between floored division and normal division?\n",
    "x = 15\n",
    "print(\"Floor division of 15 by 4 (15//4) is:\",15//4)\n",
    "print(\"Regular division of 15 by 4 (15/4) is:\",15/4)\n",
    "\n",
    "# Observations:\n",
    "# Difference between Regular & Floor division is that floor division returns nearest whole number and regular divisoin gives complete division."
   ]
  },
  {
   "cell_type": "code",
   "execution_count": 4,
   "metadata": {},
   "outputs": [
    {
     "name": "stdout",
     "output_type": "stream",
     "text": [
      "8 ** 2: 64\n"
     ]
    }
   ],
   "source": [
    "# Question 2:\n",
    "# Write a program to calculate 8 ** 2.\n",
    "# Describe what each part of the expression represents.\n",
    "print(\"8 ** 2:\", 8 ** 2)\n",
    "\n",
    "#Observation:\n",
    "# 8 and 2 are oprands, ** is operator, exponent operator, returns power described by number after it.\n",
    "# GPT Wording:\n",
    "# In the expression 8 ** 2, the number 8 is the base and 2 is the exponent.\n",
    "# The '**' operator is the exponentiation operator in Python.\n",
    "# It raises the base (8) to the power of the exponent (2), resulting in 64. "
   ]
  },
  {
   "cell_type": "code",
   "execution_count": 8,
   "metadata": {},
   "outputs": [
    {
     "name": "stdout",
     "output_type": "stream",
     "text": [
      "16 ** 0.5: 4.0\n",
      "20 - (5 * 3) + (8 / 4):: 7.0\n",
      "20 - 5 * (3 + 8) / 4:: 6.25\n"
     ]
    }
   ],
   "source": [
    "# Question 3:\n",
    "# Calculate 16 ** 0.5 and print the result.\n",
    "# Then solve this expression using arithmetic operators: 20 - 5 * 3 + 8 / 4\n",
    "# Use parentheses to make sure the addition happens before multiplication.\n",
    "# Print the output.\n",
    "print(\"16 ** 0.5:\", 16 ** 0.5) #num ** 0.5 is square root.\n",
    "print(\"20 - (5 * 3) + (8 / 4)::\", 20 - (5 * 3) + (8 / 4))\n",
    "print(\"20 - 5 * (3 + 8) / 4::\", 20 - 5 * (3 + 8) / 4)\n",
    "\n",
    "# Observations by GPT:\n",
    "# 1. In Python, using '** 0.5' calculates the square root of a number.\n",
    "#    So, 16 ** 0.5 returns 4.0.\n",
    "#\n",
    "# 2. In the expression 20 - (5 * 3) + (8 / 4):\n",
    "#    - Multiplication and division are performed before addition and subtraction due to operator precedence.\n",
    "#    - (5 * 3) = 15 and (8 / 4) = 2.0, so the result becomes 20 - 15 + 2.0 = 7.0\n",
    "#\n",
    "# 3. In the expression 20 - 5 * (3 + 8) / 4:\n",
    "#    - Parentheses change the order of operations.\n",
    "#    - (3 + 8) = 11, then 5 * 11 = 55, then 55 / 4 = 13.75\n",
    "#    - Final result: 20 - 13.75 = 6.25"
   ]
  },
  {
   "cell_type": "code",
   "execution_count": null,
   "metadata": {},
   "outputs": [],
   "source": [
    "# Question 4:\n",
    "# Assign the value 7 to a variable num.\n",
    "# Convert it to a float and print the result.\n",
    "# What is the difference between 7 and 7.0?\n",
    "num = 7\n",
    "print(\"Float of 7 is:\", float(num))\n",
    "\n",
    "# Observation:\n",
    "# The difference between 7 and 7.0 is that 7 is an integer and 7.0 is a float."
   ]
  },
  {
   "cell_type": "code",
   "execution_count": 1,
   "metadata": {},
   "outputs": [
    {
     "name": "stdout",
     "output_type": "stream",
     "text": [
      "100 > 50: True\n"
     ]
    }
   ],
   "source": [
    "# Question 5:\n",
    "# Use a comparison operator to check if 100 is greater than 50.\n",
    "# Print the result and indicate what type of value this is.\n",
    "print(\"100 > 50:\", 100 > 50)\n",
    "\n",
    "# Observation:\n",
    "# Returns True because 100 is greater than 50."
   ]
  },
  {
   "cell_type": "code",
   "execution_count": 2,
   "metadata": {},
   "outputs": [
    {
     "name": "stdout",
     "output_type": "stream",
     "text": [
      "is_sunny and is_weekend: False\n"
     ]
    }
   ],
   "source": [
    "# Question 6:\n",
    "# Assign True to a variable is_sunny and False to is_weekend.\n",
    "# Use logical operators to check if it is sunny and the weekend (is_sunny and is_weekend).\n",
    "# Print the result.\n",
    "is_sunny = True\n",
    "is_weekend = False\n",
    "print(\"is_sunny and is_weekend:\", is_sunny and is_weekend)\n",
    "\n",
    "# Observation:\n",
    "# Returns False because is_sunny is True and is_weekend is False"
   ]
  },
  {
   "cell_type": "code",
   "execution_count": 4,
   "metadata": {},
   "outputs": [
    {
     "name": "stdout",
     "output_type": "stream",
     "text": [
      "Result after your input: True\n"
     ]
    }
   ],
   "source": [
    "# Question 7:\n",
    "# Create a variable password and set it to \"my_password123\".\n",
    "# Ask the user to input a password.\n",
    "# Print True if the input matches the value of password, otherwise print False.\n",
    "password = \"my_password123\"\n",
    "user_input = input(\"Enter Password:\")\n",
    "print(\"Result after your input:\",user_input == password)"
   ]
  },
  {
   "cell_type": "code",
   "execution_count": 6,
   "metadata": {},
   "outputs": [
    {
     "name": "stdout",
     "output_type": "stream",
     "text": [
      "Marks before increment: 50\n",
      "Marks after increment: 55\n"
     ]
    }
   ],
   "source": [
    "# Question 8:\n",
    "# Assign the value 50 to a variable marks.\n",
    "# Increment the value of marks by 5 using the += operator.\n",
    "# Print the new value.\n",
    "marks = 50\n",
    "print(\"Marks before increment:\",marks)\n",
    "marks += 5\n",
    "print(\"Marks after increment:\",marks)"
   ]
  },
  {
   "cell_type": "code",
   "execution_count": 9,
   "metadata": {},
   "outputs": [
    {
     "name": "stdout",
     "output_type": "stream",
     "text": [
      "a or b: 10\n"
     ]
    }
   ],
   "source": [
    "# Question 9:\n",
    "# Write a program to check if the value of a = 0 and b = 10 satisfies a or b.\n",
    "# Print the output and explain why it gives that result.\n",
    "a = 0\n",
    "b = 10\n",
    "print(\"a or b:\",a or b)\n",
    "\n",
    "# Observation:\n",
    "# Returns True because a is 0 (False) and b is 10(True as value is other than 0)."
   ]
  },
  {
   "cell_type": "code",
   "execution_count": 8,
   "metadata": {},
   "outputs": [
    {
     "name": "stdout",
     "output_type": "stream",
     "text": [
      "not False: True\n"
     ]
    }
   ],
   "source": [
    "# Question 10:\n",
    "# Use not to negate the value of False and print the result.\n",
    "# Explain what the not operator does in Python.\n",
    "print(\"not False:\", not False)\n",
    "\n",
    "# Observation:\n",
    "# Returns True because not False is True, i.e reverse of False."
   ]
  }
 ],
 "metadata": {
  "kernelspec": {
   "display_name": "Python 3",
   "language": "python",
   "name": "python3"
  },
  "language_info": {
   "codemirror_mode": {
    "name": "ipython",
    "version": 3
   },
   "file_extension": ".py",
   "mimetype": "text/x-python",
   "name": "python",
   "nbconvert_exporter": "python",
   "pygments_lexer": "ipython3",
   "version": "3.12.3"
  }
 },
 "nbformat": 4,
 "nbformat_minor": 2
}
