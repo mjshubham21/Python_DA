{
 "cells": [
  {
   "cell_type": "code",
   "execution_count": 9,
   "metadata": {},
   "outputs": [
    {
     "name": "stdout",
     "output_type": "stream",
     "text": [
      "Age: 25\n",
      "Type of Age variable: <class 'int'>\n"
     ]
    }
   ],
   "source": [
    "# Assignment 2\n",
    "# Question 1:\n",
    "# Create a variable age and assign it the value 25.\n",
    "# Then print the value of age along with its data type using the type() function.\n",
    "age = 25\n",
    "print(\"Age:\",age)\n",
    "print(\"Type of Age variable:\",type(age))"
   ]
  },
  {
   "cell_type": "code",
   "execution_count": 10,
   "metadata": {},
   "outputs": [
    {
     "name": "stdout",
     "output_type": "stream",
     "text": [
      "Variable price: 12.5\n",
      "Data Type of Variable price: <class 'float'>\n",
      "Variable price: 12\n",
      "Data Type of Variable price: <class 'int'>\n"
     ]
    }
   ],
   "source": [
    "# Question 2:\n",
    "# Assign the number 12.5 to a variable price.\n",
    "# Print both the variable and its data type.\n",
    "# Then assign the value 12 to the same variable and print its data type again.\n",
    "# What do you observe?\n",
    "price = 12.5\n",
    "print(\"Variable price:\", price)\n",
    "print(\"Data Type of Variable price:\", type(price))\n",
    "price = 12\n",
    "print(\"Variable price:\", price)\n",
    "print(\"Data Type of Variable price:\", type(price))\n",
    "# Observation:\n",
    "# We can modify data type of a variable after it being declared in program."
   ]
  },
  {
   "cell_type": "code",
   "execution_count": 12,
   "metadata": {},
   "outputs": [
    {
     "name": "stdout",
     "output_type": "stream",
     "text": [
      "Variable is_raining: True\n",
      "Data type of Variable is_raining: <class 'bool'>\n",
      "Variable is_raining: False\n",
      "Data type of Variable is_raining: <class 'bool'>\n"
     ]
    }
   ],
   "source": [
    "# Question 3:\n",
    "# Create a variable is_raining and set it to True.\n",
    "# Print the value of the variable along with its type.\n",
    "# Then set is_raining to False and print the new value and type.\n",
    "is_raining = True\n",
    "print(\"Variable is_raining:\", is_raining)\n",
    "print(\"Data type of Variable is_raining:\", type(is_raining))\n",
    "is_raining = False\n",
    "print(\"Variable is_raining:\", is_raining)\n",
    "print(\"Data type of Variable is_raining:\", type(is_raining))"
   ]
  },
  {
   "cell_type": "code",
   "execution_count": 13,
   "metadata": {},
   "outputs": [
    {
     "name": "stdout",
     "output_type": "stream",
     "text": [
      "My name is: Shubham Pawar\n"
     ]
    }
   ],
   "source": [
    "# Question 4:\n",
    "# Create a variable my_name and store your full name in it as a string.\n",
    "# Then print the value of my_name using single quotes '.\n",
    "my_name = \"Shubham Pawar\"\n",
    "print('My name is:', my_name)"
   ]
  },
  {
   "cell_type": "code",
   "execution_count": 14,
   "metadata": {},
   "outputs": [
    {
     "name": "stdout",
     "output_type": "stream",
     "text": [
      "Hello, mj! You are 25 years old.\n"
     ]
    }
   ],
   "source": [
    "# Question 5:\n",
    "# Write a Python program that asks the user for their name and age using the input() function.\n",
    "# Store the inputs in variables and print a sentence like:\n",
    "# \"Hello, [Name]! You are [Age] years old.\"\n",
    "# Ensure you cast the age to an integer.\n",
    "name = input(\"Enter Your Name:\")\n",
    "age = int(input(\"Enter Your Age\"))\n",
    "print(f\"Hello, {name}! You are {age} years old.\")"
   ]
  },
  {
   "cell_type": "code",
   "execution_count": 17,
   "metadata": {},
   "outputs": [
    {
     "name": "stdout",
     "output_type": "stream",
     "text": [
      "Value of x: 10 and y: 3.5\n",
      "Data Type of x: <class 'int'> and y: <class 'float'>\n",
      "Sum of x and y: 13.5 \n",
      "Data Type: <class 'float'>\n"
     ]
    }
   ],
   "source": [
    "# Question 6:\n",
    "# Create two variables x and y and assign them the values 10 and 3.5, respectively.\n",
    "# Print their values and types.\n",
    "# Then, create a new variable sum_xy and store the sum of x and y.\n",
    "# Print the result and its type.\n",
    "x = 10\n",
    "y = 3.5\n",
    "print(f\"Value of x: {x} and y: {y}\\nData Type of x: {type(x)} and y: {type(y)}\")\n",
    "sum_xy = x + y\n",
    "print(\"Sum of x and y:\", sum_xy,\"\\nData Type:\", type(sum_xy))"
   ]
  },
  {
   "cell_type": "code",
   "execution_count": 18,
   "metadata": {},
   "outputs": [
    {
     "name": "stdout",
     "output_type": "stream",
     "text": [
      "<class 'float'>\n",
      "<class 'str'>\n",
      "<class 'NoneType'>\n",
      "<class 'bool'>\n"
     ]
    }
   ],
   "source": [
    "# Question 7:\n",
    "# Using the type() function, check and print the data type of the following:\n",
    "# 45.0\n",
    "# \"hello\"\n",
    "# None\n",
    "# False\n",
    "print(type(45.0))\n",
    "print(type(\"hello\"))\n",
    "print(type(None))\n",
    "print(type(False))"
   ]
  },
  {
   "cell_type": "code",
   "execution_count": 22,
   "metadata": {},
   "outputs": [
    {
     "name": "stdout",
     "output_type": "stream",
     "text": [
      "apple banana cherry\n",
      "apple, banana, cherry\n",
      "-------GPT Approach:-------\n",
      "apple banana cherry\n",
      "apple, banana, cherry\n"
     ]
    }
   ],
   "source": [
    "# Question 8:\n",
    "# Write a Python program to print three strings \"apple\", \"banana\", and \"cherry\"\n",
    "# on the same line, separated by a space.\n",
    "# Then modify the program to separate the strings using a comma, instead of a space.\n",
    "print(\"apple banana cherry\")\n",
    "print(\"apple, banana, cherry\")\n",
    "\n",
    "# GPT Approach as I had doubt about the question:\n",
    "print(\"-------GPT Approach:-------\")\n",
    "# With space separator\n",
    "print(\"apple\", \"banana\", \"cherry\")  # default separator is space\n",
    "\n",
    "# With comma separator\n",
    "print(\"apple\", \"banana\", \"cherry\", sep=\", \")\n"
   ]
  },
  {
   "cell_type": "code",
   "execution_count": 25,
   "metadata": {},
   "outputs": [
    {
     "name": "stdout",
     "output_type": "stream",
     "text": [
      "big_number: 23424223514353453453468687676776, Data Type: <class 'int'>\n"
     ]
    }
   ],
   "source": [
    "# Question 9:\n",
    "# Create a variable big_number and assign it a very large integer value (e.g., 987654321987654321).\n",
    "# Print the value and its type.\n",
    "# What do you notice about the size of the number?\n",
    "big_number = 23424223514353453453468687676776\n",
    "print(f\"big_number: {big_number}, Data Type: {type(big_number)}\")\n",
    "\n",
    "# Observation:\n",
    "# Python handles very large integers automatically without any special syntax or data types."
   ]
  },
  {
   "cell_type": "code",
   "execution_count": 26,
   "metadata": {},
   "outputs": [
    {
     "name": "stdout",
     "output_type": "stream",
     "text": [
      "Product of 2.5 & 3.7: 9.25, Data Type: <class 'float'>\n"
     ]
    }
   ],
   "source": [
    "# Question 10:\n",
    "# Write a Python program that prints the result of multiplying two floats (e.g., 2.5 and 3.7).\n",
    "# Then check and print the data type of the result.\n",
    "prod = 2.5 * 3.7\n",
    "print(f\"Product of 2.5 & 3.7: {prod}, Data Type: {type(prod)}\")"
   ]
  }
 ],
 "metadata": {
  "kernelspec": {
   "display_name": "Python 3",
   "language": "python",
   "name": "python3"
  },
  "language_info": {
   "codemirror_mode": {
    "name": "ipython",
    "version": 3
   },
   "file_extension": ".py",
   "mimetype": "text/x-python",
   "name": "python",
   "nbconvert_exporter": "python",
   "pygments_lexer": "ipython3",
   "version": "3.12.3"
  }
 },
 "nbformat": 4,
 "nbformat_minor": 2
}
