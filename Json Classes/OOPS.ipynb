{
 "cells": [
  {
   "cell_type": "code",
   "execution_count": 1,
   "id": "4beabdf7-d9d6-496f-80e1-2a87909003ac",
   "metadata": {},
   "outputs": [],
   "source": [
    "# 16-06-25, Monday;\n",
    "# Object Oriented Programming Structure (OOPS).\n",
    "# Pillars of OOPS:\n",
    "# 1. Classes\n",
    "# 2. Objects\n",
    "# 3. Inheritance\n",
    "# 4. Polymorphism\n",
    "# 5. Encapsulation\n",
    "# 6. Abstraction.\n"
   ]
  },
  {
   "cell_type": "code",
   "execution_count": 39,
   "id": "c76820c6-f28b-4c6d-8a1b-e80223f358ca",
   "metadata": {},
   "outputs": [
    {
     "name": "stdout",
     "output_type": "stream",
     "text": [
      "1. Deposit\n",
      "2. Withdraw\n"
     ]
    },
    {
     "name": "stdout",
     "output_type": "stream",
     "text": [
      "Enter Your Option: 2\n",
      "Enter the amount (greater than 0) for Withdrawal: 10101\n"
     ]
    },
    {
     "name": "stdout",
     "output_type": "stream",
     "text": [
      "Current Balance: 1000\n",
      "Amount for withdrawal: 10101  is greater than current balance: 1000\n"
     ]
    }
   ],
   "source": [
    "# Class: Blueprint for creating Objects.\n",
    "class Demo:\n",
    "    def f1():\n",
    "        print(\"Demo.f1\")\n",
    "\n",
    "class Bank:\n",
    "    def deposit(self, amt):\n",
    "        self.bal = 1000\n",
    "        self.bal += amt\n",
    "        print(\"Current Balance:\", self.bal)\n",
    "    def withdraw(self, amt):\n",
    "        self.bal = 1000\n",
    "        print(\"Current Balance:\", self.bal)\n",
    "        if(amt > self.bal):\n",
    "            print(\"Amount for withdrawal:\",amt ,\" is greater than current balance:\", self.bal)\n",
    "        else:\n",
    "            self.bal -= amt\n",
    "            print(\"Current Balance after withdrawal:\", self.bal)\n",
    "\n",
    "# Bank.deposit(100)\n",
    "b = Bank() #Object instanciated.\n",
    "while True:\n",
    "    print(\"1. Deposit\")\n",
    "    print(\"2. Withdraw\")\n",
    "    opt = int(input(\"Enter Your Option:\"))\n",
    "    if( 0 > opt > 2):\n",
    "        print(\"Enter a valid option...\")\n",
    "        continue  # Loop continues to ask again\n",
    "    elif(opt == 1):\n",
    "        dAmt = int(input(\"Enter the amount (greater than 0) for Deopsit:\"))\n",
    "        if(dAmt <= 0 ):\n",
    "            print(\"Enter Deposit Amount greater than 0\")\n",
    "        else:\n",
    "            b.deposit(dAmt)\n",
    "            break\n",
    "    elif(opt == 2):\n",
    "        wAmt = int(input(\"Enter the amount (greater than 0) for Withdrawal:\"))\n",
    "        if(wAmt <= 0 ):\n",
    "            print(\"Enter Withdrawal Amount greater than 0\")\n",
    "        else:\n",
    "            b.withdraw(wAmt)\n",
    "            break"
   ]
  },
  {
   "cell_type": "code",
   "execution_count": 43,
   "id": "90bacbf7-5768-4b6c-a316-661c13576152",
   "metadata": {},
   "outputs": [
    {
     "name": "stdout",
     "output_type": "stream",
     "text": [
      "1. Deposit\n",
      "2. Withdraw\n"
     ]
    },
    {
     "name": "stdout",
     "output_type": "stream",
     "text": [
      "Enter Your Option:  1\n",
      "Enter the amount (greater than 0) for Deposit:  100\n"
     ]
    },
    {
     "name": "stdout",
     "output_type": "stream",
     "text": [
      "Current Balance: 1100\n"
     ]
    }
   ],
   "source": [
    "# GPT APPROACH.\n",
    "# Class: Blueprint for creating Objects.\n",
    "class Bank:\n",
    "    def __init__(self):\n",
    "        self.bal = 1000  # ✅ Initial balance only once at object creation\n",
    "\n",
    "    def deposit(self, amt):\n",
    "        self.bal += amt\n",
    "        print(\"Current Balance:\", self.bal)\n",
    "\n",
    "    def withdraw(self, amt):\n",
    "        if amt > self.bal:\n",
    "            print(\"Amount for withdrawal:\", amt, \"is greater than current balance:\", self.bal)\n",
    "        else:\n",
    "            self.bal -= amt\n",
    "            print(\"Current Balance after withdrawal:\", self.bal)\n",
    "\n",
    "# Create Bank object\n",
    "b = Bank() # b is reference variable.\n",
    "\n",
    "print(\"1. Deposit\")\n",
    "print(\"2. Withdraw\")\n",
    "opt = int(input(\"Enter Your Option: \"))\n",
    "\n",
    "if opt < 1 or opt > 2:\n",
    "    print(\"Enter a valid option...\")\n",
    "elif opt == 1:\n",
    "    dAmt = int(input(\"Enter the amount (greater than 0) for Deposit: \"))\n",
    "    if dAmt <= 0:\n",
    "        print(\"Enter Deposit Amount greater than 0\")\n",
    "    else:\n",
    "        b.deposit(dAmt)\n",
    "elif opt == 2:\n",
    "    wAmt = int(input(\"Enter the amount (greater than 0) for Withdrawal: \"))\n",
    "    if wAmt <= 0:\n",
    "        print(\"Enter Withdrawal Amount greater than 0\")\n",
    "    else:\n",
    "        b.withdraw(wAmt)\n"
   ]
  },
  {
   "cell_type": "code",
   "execution_count": 53,
   "id": "c4402e08-8fb4-4ee7-8fbf-d5131fc88685",
   "metadata": {},
   "outputs": [
    {
     "ename": "SyntaxError",
     "evalue": "invalid syntax (3936590499.py, line 16)",
     "output_type": "error",
     "traceback": [
      "  \u001b[36mCell\u001b[39m\u001b[36m \u001b[39m\u001b[32mIn[53]\u001b[39m\u001b[32m, line 16\u001b[39m\n\u001b[31m    \u001b[39m\u001b[31mdef __init__(self, self.sid, self.sname):\u001b[39m\n                           ^\n\u001b[31mSyntaxError\u001b[39m\u001b[31m:\u001b[39m invalid syntax\n"
     ]
    }
   ],
   "source": [
    "# 17-06-25, Tuesday;\n",
    "# Types of variables:\n",
    "# 1. Local\n",
    "# 2. Instance\n",
    "# 3. Class\n",
    "\n",
    "# Constructor: def __init__(): non-parameterised\n",
    "# Constructor: def __init__(self): parameterised\n",
    "# A constructor is used to initialise the properties of an object; it's executed when an object is created.\n",
    "# Class can have multiple constructors, __init__ is common but parameters are different. GPT said only 1 Constructor per class.\n",
    "\n",
    "# E.G. Student class:\n",
    "class Student:\n",
    "    def __init__(self):\n",
    "        print(\"Non-Parameterised Constructor.\")\n",
    "    def __init__(self, sid, sname):\n",
    "        self.sid = sid\n",
    "        self.sname = sname\n",
    "        print(\"Parameterised Constructor.\\n ID:\",sid,\"\\n Name\",sname)\n",
    "\n",
    "s = Student()\n",
    "s1 = Student(1, \"Valar\")\n",
    "s2 = Student(2, \"Morghulis\")"
   ]
  },
  {
   "cell_type": "code",
   "execution_count": 54,
   "id": "fe3d2e6e-c53f-4931-aa82-fce111d6d590",
   "metadata": {},
   "outputs": [
    {
     "name": "stdout",
     "output_type": "stream",
     "text": [
      "Non-Parameterized Constructor\n",
      "Parameterized Constructor\n",
      "ID: 1 \n",
      "Name: Valar\n",
      "Parameterized Constructor\n",
      "ID: 2 \n",
      "Name: Morghulis\n"
     ]
    }
   ],
   "source": [
    "# GPT Approach:\n",
    "class Student:\n",
    "    def __init__(self, sid=None, sname=None):\n",
    "        if sid is not None and sname is not None:\n",
    "            self.sid = sid\n",
    "            self.sname = sname\n",
    "            print(\"Parameterized Constructor\")\n",
    "            print(\"ID:\", sid, \"\\nName:\", sname)\n",
    "        else:\n",
    "            print(\"Non-Parameterized Constructor\")\n",
    "\n",
    "# Test cases\n",
    "s = Student()\n",
    "s1 = Student(1, \"Valar\")\n",
    "s2 = Student(2, \"Morghulis\")\n"
   ]
  },
  {
   "cell_type": "code",
   "execution_count": 58,
   "id": "d3151e7f-8134-4a35-b4c1-9f46090daaa5",
   "metadata": {},
   "outputs": [
    {
     "name": "stdout",
     "output_type": "stream",
     "text": [
      "Employee ID: 1\n",
      "Employee Name: Aegon\n",
      "Employee Salary: 1000000\n",
      "------------------------------\n",
      "Employee ID: 2\n",
      "Employee Name: Daenerys\n",
      "Employee Salary: 900000\n",
      "------------------------------\n",
      "Employee ID: 3\n",
      "Employee Name: Drogon\n",
      "Employee Salary: 8500000\n",
      "------------------------------\n",
      "Employee ID: 4\n",
      "Employee Name: Balerion\n",
      "Employee Salary: 9500000\n",
      "------------------------------\n",
      "Employee ID: 5\n",
      "Employee Name: Daemon\n",
      "Employee Salary: 800000\n",
      "------------------------------\n"
     ]
    }
   ],
   "source": [
    "# Employee Class\n",
    "class Employee:\n",
    "    def __init__(self, eid,ename,salary):\n",
    "        self.eid = eid\n",
    "        self.ename = ename\n",
    "        self.salary = salary\n",
    "    def display(self):\n",
    "        print(\"Employee ID:\", self.eid)\n",
    "        print(\"Employee Name:\", self.ename)\n",
    "        print(\"Employee Salary:\", self.salary)\n",
    "        print(\"------------------------------\")\n",
    "\n",
    "e1 = Employee(1,\"Aegon\",1000000)\n",
    "e1.display()\n",
    "e2 = Employee(2,\"Daenerys\",900000)\n",
    "e2.display()\n",
    "e3 = Employee(3,\"Drogon\",8500000)\n",
    "e3.display()\n",
    "e4 = Employee(4,\"Balerion\",9500000)\n",
    "e4.display()\n",
    "e5 = Employee(5,\"Daemon\",800000)\n",
    "e5.display()"
   ]
  },
  {
   "cell_type": "code",
   "execution_count": 5,
   "id": "d9df3cdd-c154-4610-8e63-69c58b52495d",
   "metadata": {},
   "outputs": [
    {
     "name": "stdout",
     "output_type": "stream",
     "text": [
      "Dog Class\n",
      "Eats: Bones\n",
      "Dogs Bark.\n"
     ]
    }
   ],
   "source": [
    "# 18-06-25, Wednesday;\n",
    "# Inheritance: accessing properties from a parent. The main purpose is Code Reusability.\n",
    "# Types:\n",
    "# 1. Single Level: 1 parent only.\n",
    "# 2. Multi-Level: multiple parent classes. Parents also have parent classes.\n",
    "# 3. Hierarchical: 1 parent, multiple children.\n",
    "# 4. Multiple: 1 child, multiple parent classes.\n",
    "\n",
    "# super(): used to call the constructor of the Parent class.\n",
    "\n",
    "# E.G.: 1. Single level inheritance.\n",
    "class Animal:\n",
    "    def __init__(self):\n",
    "        print(\"Animal Class\")\n",
    "    \n",
    "    def food(self, f):\n",
    "        print(\"Eats:\", f)\n",
    "\n",
    "class Dog(Animal): #Inheritance syntax. No extends keyword.\n",
    "    def __init__(self):\n",
    "        print(\"Dog Class\")\n",
    "\n",
    "    def sound(self):\n",
    "        print(\"Dogs Bark.\")\n",
    "\n",
    "d = Dog()\n",
    "d.food(\"Bones\")\n",
    "d.sound()"
   ]
  },
  {
   "cell_type": "code",
   "execution_count": 17,
   "id": "b9ce22c2-4cb7-4d53-a031-ddb3eef8fdb4",
   "metadata": {},
   "outputs": [
    {
     "name": "stdout",
     "output_type": "stream",
     "text": [
      "Animal Class\n",
      "Dog Class\n",
      "Breed: Siberian Husky\n",
      "Eats: Omnivore\n",
      "Dogs Bark.\n",
      "Nature of Siberian Husky  is Comedy\n"
     ]
    }
   ],
   "source": [
    "# E.G.: 2. Multilevel inheritance:\n",
    "class Animal:\n",
    "    def __init__(self):\n",
    "        print(\"Animal Class\")\n",
    "    \n",
    "    def food(self, f):\n",
    "        self.f = f\n",
    "        print(\"Eats:\", f)\n",
    "\n",
    "class Dog(Animal): #Inheritance syntax. No extends keyword.\n",
    "    def __init__(self):\n",
    "        super().__init__()\n",
    "        print(\"Dog Class\")\n",
    "    \n",
    "    def sound(self):\n",
    "        print(\"Dogs Bark.\")\n",
    "\n",
    "class Breed(Dog):\n",
    "    def __init__(self, name):\n",
    "        super().__init__()\n",
    "        self.name = name\n",
    "        print(\"Breed:\", name)\n",
    "    def nature(self,n):\n",
    "        print(\"Nature of\", self.name,\" is\", n)\n",
    "\n",
    "sh = Breed(\"Siberian Husky\")\n",
    "sh.food(\"Omnivore\")\n",
    "sh.sound()\n",
    "sh.nature(\"Comedy\")"
   ]
  },
  {
   "cell_type": "code",
   "execution_count": 12,
   "id": "a19f3a5e-b68a-48ff-b8ee-26f7007c6d5c",
   "metadata": {},
   "outputs": [
    {
     "name": "stdout",
     "output_type": "stream",
     "text": [
      "SBI Class.\n",
      "Account Created.\n",
      "BOB Class.\n",
      "Account Created.\n"
     ]
    }
   ],
   "source": [
    "# E.G.: 3. Hierarchical:\n",
    "class Bank:\n",
    "    def __init__(self):\n",
    "        print(\"Bank Class.\")\n",
    "    def createAcc(self):\n",
    "        print(\"Account Created.\")\n",
    "\n",
    "class SBI(Bank):\n",
    "    def __init__(self):\n",
    "        print(\"SBI Class.\")\n",
    "\n",
    "class BOB(Bank):\n",
    "    def __init__(self):\n",
    "        print(\"BOB Class.\")\n",
    "\n",
    "s = SBI()\n",
    "s.createAcc()\n",
    "b = BOB()\n",
    "b.createAcc()"
   ]
  },
  {
   "cell_type": "code",
   "execution_count": 20,
   "id": "34086cf1-92f8-41e1-a362-441947fdb730",
   "metadata": {},
   "outputs": [
    {
     "name": "stdout",
     "output_type": "stream",
     "text": [
      "Supercar (Child Class)\n",
      "Model: Chiron SS 300+\n",
      "Brand: Bugatti\n",
      "Type of vehicle: Hypercar.\n"
     ]
    }
   ],
   "source": [
    "# E.G.: 4. Multiple:\n",
    "class Vehicle:\n",
    "    def __init__(self):\n",
    "        print(\"Vehical (Parent 1)\")\n",
    "    \n",
    "    def type_(self, t):\n",
    "        self.t = t\n",
    "        print(\"Type of vehicle:\", t)\n",
    "\n",
    "class Car(Vehicle):\n",
    "    def __inti__(self):\n",
    "        print(\"Car (Parent 2)\")\n",
    "    \n",
    "    def brand(self, b):\n",
    "        self.b = b\n",
    "        print(\"Brand:\", b)\n",
    "        \n",
    "class Supercar(Car, Vehicle):\n",
    "    def __init__(self):\n",
    "        print(\"Supercar (Child Class)\")\n",
    "    \n",
    "    def model(self, m):\n",
    "        self.m = m\n",
    "        print(\"Model:\", m)\n",
    "\n",
    "b = Supercar()\n",
    "b.model(\"Chiron SS 300+\")\n",
    "b.brand(\"Bugatti\")\n",
    "b.type_(\"Hypercar.\")"
   ]
  },
  {
   "cell_type": "code",
   "execution_count": 16,
   "id": "2bf2cfd2-b6f9-4808-ae84-c5cc281b0613",
   "metadata": {},
   "outputs": [
    {
     "name": "stdout",
     "output_type": "stream",
     "text": [
      "Current balance is: 12000\n"
     ]
    },
    {
     "name": "stdout",
     "output_type": "stream",
     "text": [
      "Enter Your Password: 1\n",
      "Confirm Your Password: 1\n"
     ]
    },
    {
     "name": "stdout",
     "output_type": "stream",
     "text": [
      "Your account balance is: 12000\n",
      "Updated balance is: 14000\n"
     ]
    }
   ],
   "source": [
    "# 19-06-25, Thursday;\n",
    "# Encapsulation: the idea of wrapping up data and its related methods into a single unit. Used to data hiding.\n",
    "class Bank:\n",
    "    def __init__(self):\n",
    "        self.__bal = 12000 # __ makes data Private.\n",
    "        print(\"Current balance is:\", self.__bal)\n",
    "    def display(self):\n",
    "        print(\"Balance:\",self.__bal)\n",
    "    def getBalance(self): #getter function, reads private data.\n",
    "        password = input(\"Enter Your Password:\")\n",
    "        cPassword = input(\"Confirm Your Password:\")\n",
    "        if(password == cPassword):\n",
    "            return print(\"Your account balance is:\",self.__bal)\n",
    "        else:\n",
    "            return -1\n",
    "    def setBalance(self, amt): #setter function, updates or sets private data\n",
    "        self.__bal += amt\n",
    "        print(\"Updated balance is:\", self.__bal)\n",
    "        \n",
    "b = Bank()\n",
    "# b.__bal\n",
    "# b.display()\n",
    "b.getBalance()\n",
    "b.setBalance(2000)\n",
    "\n",
    "# Getter and Setter functions are used to access private data.\n",
    "# Setter functions are used to update private data.\n"
   ]
  },
  {
   "cell_type": "code",
   "execution_count": 20,
   "id": "73bedc5e-87d7-4dd8-a129-11c2030c2eef",
   "metadata": {},
   "outputs": [
    {
     "name": "stdout",
     "output_type": "stream",
     "text": [
      "Rate of interest in SBI on Home Loans: 5\n"
     ]
    }
   ],
   "source": [
    "# 23-06-25, Monday;\n",
    "# Function Overloading: Child Class can modify the implementation of a function of a Parent Class.\n",
    "# To do so, inheritance shall be implemented first, to modify.\n",
    "# Function name and parameters must be the same in the child class.\n",
    "\n",
    "class RBI:\n",
    "    def homeLoan(self):\n",
    "        return 5\n",
    "\n",
    "class SBI(RBI):\n",
    "    def homeLoan(self):\n",
    "        return 10\n",
    "\n",
    "s = SBI()\n",
    "print(\"Rate of interest in SBI on Home Loans:\",s.homeLoan())"
   ]
  },
  {
   "cell_type": "code",
   "execution_count": 24,
   "id": "0593d207-e8eb-43a2-bada-6c8a1a0b4e92",
   "metadata": {},
   "outputs": [
    {
     "name": "stdout",
     "output_type": "stream",
     "text": [
      "Amount: 1000\n",
      "Discount of 10%: 100.0\n",
      "Grand Total: 900.0\n"
     ]
    }
   ],
   "source": [
    "# Question: Create a class Ecommerce.\n",
    "# sellProduct(qty, price), find amt\n",
    "# create class Amazon\n",
    "# modify function and give 10% discount.\n",
    "\n",
    "class Ecommerce():\n",
    "    def sellProduct(self, qty, price):\n",
    "        amt = qty * price\n",
    "        return amt\n",
    "\n",
    "class Amazon(Ecommerce):\n",
    "    def sellProduct(self, qty, price):\n",
    "        amt = qty * price\n",
    "        print(\"Amount:\",amt)\n",
    "        discount = amt/10 #10% discount.\n",
    "        print(\"Discount of 10%:\",discount)\n",
    "        print(\"Grand Total:\", amt - discount)\n",
    "\n",
    "a = Amazon()\n",
    "a.sellProduct(10, 100)"
   ]
  },
  {
   "cell_type": "code",
   "execution_count": null,
   "id": "c5ac5afd-69d5-4bcc-9442-b1d26ad1cc21",
   "metadata": {},
   "outputs": [],
   "source": [
    "# Create a mini project of a Bank Account system.\n",
    "# Features:\n",
    "# 1. Private Balance attribute.\n",
    "# 2. Create functions: deposit, withdraw, getBalance, and viewAccount that show account details and the number.\n",
    "# 3. Validations of input values.\n",
    "# 4. Access only through methods only.\n",
    "# 5. Create 2 functions: openAccount(fullName, mobile, aadhar) and login.\n",
    "#    A. openAccount: fullName, mobile, aadhar. Generate a 16-digit account number.\n",
    "#    B. login: userName and password (< 6. Both can't be empty.)"
   ]
  },
  {
   "cell_type": "code",
   "execution_count": 43,
   "id": "9f081096-f2a4-465f-b470-30c7902bc6a1",
   "metadata": {},
   "outputs": [
    {
     "name": "stdout",
     "output_type": "stream",
     "text": [
      "Welcome to Bank Account System.\n",
      "-------------------------------\n",
      "Current Balance is: 10000\n",
      "Logged In Successfully\n",
      "-------------------------------\n",
      "Account Opened Successfully.\n",
      "-------------------------------\n",
      "Your current bank balance is: 10000\n",
      "-------------------------------\n",
      "Balance after Depositing 2000  is: 12000\n",
      "-------------------------------\n",
      "Current balance after withdrawing 1000 is: 11000\n",
      "-------------------------------\n",
      "Full Name: Valar Morghulis\n",
      "Account Number: 7968937268038901\n",
      "Mobile Number: 0123456789\n",
      "Aadhar Number 09876543210\n",
      "Bank Balance: 11000\n"
     ]
    }
   ],
   "source": [
    "# SOLUTION:\n",
    "import random\n",
    "\n",
    "class BankAccSys:\n",
    "    def __init__(self):\n",
    "        self.__balance = 10000\n",
    "        self.__fullName = \"\"\n",
    "        self.__mobile = \"N/A\"\n",
    "        self.__aadhar = \"N/A\"\n",
    "        self.__accountNum = \"N/A\"\n",
    "        self.__isLoggedIn = False\n",
    "        print(\"Welcome to Bank Account System.\")\n",
    "        print(\"-------------------------------\")\n",
    "        print(\"Current Balance is:\",self.__balance)\n",
    "        \n",
    "    def deposit(self, amt):\n",
    "        print(\"-------------------------------\")\n",
    "        if self.__isLoggedIn:\n",
    "            self.__balance += amt\n",
    "            print(\"Balance after Depositing\", amt,\" is:\", self.__balance)\n",
    "\n",
    "    def withdraw(self, amt):\n",
    "        print(\"-------------------------------\")\n",
    "        if(amt > self.__balance or amt == 0):\n",
    "            print(\"Enter a valid amount greater than your current bank balance.\")\n",
    "        else:\n",
    "            self.__balance -= amt\n",
    "            print(\"Current balance after withdrawing\", amt, \"is:\", self.__balance)\n",
    "\n",
    "    def getBalance(self):\n",
    "        print(\"-------------------------------\")\n",
    "        if self.__isLoggedIn:\n",
    "            print(\"Your current bank balance is:\", self.__balance)\n",
    "        else:\n",
    "            print(\"Please login first.\")\n",
    "    def viewAccountDetails(self):\n",
    "        print(\"-------------------------------\")\n",
    "        print(\"Full Name:\", self.__fullName)\n",
    "        print(\"Account Number:\", self.__accountNum)\n",
    "        print(\"Mobile Number:\", self.__mobile)\n",
    "        print(\"Aadhar Number\", self.__aadhar)\n",
    "        print(\"Bank Balance:\", self.__balance)\n",
    "\n",
    "    def openAccount(self, fullName, mobile, aadhar):\n",
    "        print(\"-------------------------------\")\n",
    "        self.__fullName = fullName\n",
    "        self.__mobile = mobile\n",
    "        self.__aadhar = aadhar\n",
    "        randomAccountNum = random.randint(10**15, (10**16) - 1)\n",
    "        self.__accountNum = randomAccountNum\n",
    "        print(\"Account Opened Successfully.\")\n",
    "\n",
    "    def login(self, userName, password):\n",
    "        if(userName and len(password) > 6):\n",
    "            self.__isLoggedIn = True\n",
    "            print(\"Logged In Successfully\")\n",
    "        else:\n",
    "            print(\"Enter Valid Details.\")\n",
    "\n",
    "a = BankAccSys()\n",
    "a.login(\"Qwerty123\", \"1234567\")\n",
    "a.openAccount(\"Valar Morghulis\", \"0123456789\", \"09876543210\")\n",
    "a.getBalance()\n",
    "a.deposit(2000)\n",
    "a.withdraw(1000)\n",
    "a.viewAccountDetails()"
   ]
  },
  {
   "cell_type": "code",
   "execution_count": 49,
   "id": "f635141a-6255-4975-8d7a-5c246eec7b8d",
   "metadata": {},
   "outputs": [
    {
     "name": "stdout",
     "output_type": "stream",
     "text": [
      "Mango's are Sweet.\n"
     ]
    }
   ],
   "source": [
    "# 24-06-25, Tuesday;\n",
    "# Abstraction: Hiding complexity from users and only allowing the use of the particular functionality.\n",
    "# Functions without a function body are called Abstract functions. We create them when we don't know the implementation of the function. Child class provides implementation.\n",
    "# If a class has an abstract function, we convert it into an abstract class.\n",
    "# from abc import ABC -Abstract Based Class.\n",
    "# We use the @abstractmethod decorator to make a function abstract.\n",
    "# E.G.: \n",
    "from abc import ABC, abstractmethod\n",
    "\n",
    "@abstractmethod #decorator\n",
    "class Fruit(ABC): #abstract class\n",
    "    def tasteOfFruiut(self): #abstract function\n",
    "        pass\n",
    "\n",
    "class Mango(Fruit):\n",
    "    def tasteOfFruiut(self):\n",
    "        print(\"Mango's are Sweet.\")\n",
    "\n",
    "m = Mango()\n",
    "m.tasteOfFruiut()\n",
    "# Abstract classes can't have objects.\n",
    "# Classes with no abstract functions are called concrete classes.\n",
    "# If the Abstract class's function is not overridden in the child class, then it becomes Abstract as well, and so it can't have an object."
   ]
  },
  {
   "cell_type": "code",
   "execution_count": 3,
   "id": "113c2db4-3636-476d-b6c3-adf1f5b59f09",
   "metadata": {},
   "outputs": [
    {
     "name": "stdout",
     "output_type": "stream",
     "text": [
      "Savings:\n",
      "Updated Bank Balance is: 2000\n",
      "Current Bank Balance is: 500\n",
      "Current:\n",
      "Updated Bank Balance is: 1500\n",
      "Current Bank Balance is: 899\n"
     ]
    }
   ],
   "source": [
    "# Bank Class with Savings and Current classes.\n",
    "from abc import ABC, abstractmethod\n",
    "\n",
    "class Bank(ABC):\n",
    "    @abstractmethod\n",
    "    def deposit(self, amt):\n",
    "        pass\n",
    "        \n",
    "    @abstractmethod\n",
    "    def withdraw(self, amt):\n",
    "        pass\n",
    "        \n",
    "class Savings(Bank):\n",
    "    def deposit(self, amt): #Overriding parent functions so that child class doesn't become abstract due to inheritance.\n",
    "        bal = 1000\n",
    "        bal += amt\n",
    "        print(\"Updated Bank Balance is:\", bal)\n",
    "\n",
    "    def withdraw(self, amt):\n",
    "        bal = 1000\n",
    "        if amt > bal:\n",
    "            print(\"Amount is greater than current balance.\")\n",
    "        else:\n",
    "            bal -= amt\n",
    "            print(\"Current Bank Balance is:\", bal)\n",
    "\n",
    "class Current(Bank):\n",
    "    def deposit(self, amt):\n",
    "        bal = 1000\n",
    "        bal += amt\n",
    "        print(\"Updated Bank Balance is:\", bal)\n",
    "        \n",
    "    def withdraw(self, amt):\n",
    "        bal = 1000\n",
    "        if amt > bal:\n",
    "            print(\"Amount is greater than current balance.\")\n",
    "        else:\n",
    "            bal -= amt\n",
    "            print(\"Current Bank Balance is:\", bal)\n",
    "\n",
    "print(\"Savings:\")\n",
    "s = Savings()\n",
    "s.deposit(1000)\n",
    "s.withdraw(500)\n",
    "print(\"Current:\")\n",
    "c = Current()\n",
    "c.deposit(500)\n",
    "c.withdraw(101)"
   ]
  },
  {
   "cell_type": "code",
   "execution_count": null,
   "id": "2db522ec",
   "metadata": {},
   "outputs": [],
   "source": []
  }
 ],
 "metadata": {
  "kernelspec": {
   "display_name": "Python 3 (ipykernel)",
   "language": "python",
   "name": "python3"
  },
  "language_info": {
   "codemirror_mode": {
    "name": "ipython",
    "version": 3
   },
   "file_extension": ".py",
   "mimetype": "text/x-python",
   "name": "python",
   "nbconvert_exporter": "python",
   "pygments_lexer": "ipython3",
   "version": "3.12.3"
  }
 },
 "nbformat": 4,
 "nbformat_minor": 5
}
