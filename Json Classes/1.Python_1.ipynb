{
 "cells": [
  {
   "cell_type": "code",
   "execution_count": 1,
   "id": "e08bbb76-8463-447e-b5f9-373ec3c68f32",
   "metadata": {},
   "outputs": [
    {
     "name": "stdout",
     "output_type": "stream",
     "text": [
      "Hello Python!!\n"
     ]
    }
   ],
   "source": [
    "# 30-5-25; Friday;\n",
    "print(\"Hello Python!!\")"
   ]
  },
  {
   "cell_type": "code",
   "execution_count": 4,
   "id": "cf9af98b-6dc3-4af3-a037-cbb1de5e57a5",
   "metadata": {
    "scrolled": true
   },
   "outputs": [
    {
     "name": "stdout",
     "output_type": "stream",
     "text": [
      "30\n"
     ]
    }
   ],
   "source": [
    "# Variables\n",
    "a = 10\n",
    "b = 20\n",
    "c = a + b\n",
    "print(c)"
   ]
  },
  {
   "cell_type": "code",
   "execution_count": 6,
   "id": "bd39b3cd-ee28-4c2b-8240-4d9f13b97bb3",
   "metadata": {},
   "outputs": [
    {
     "name": "stdout",
     "output_type": "stream",
     "text": [
      "<class 'int'>\n",
      "<class 'float'>\n",
      "<class 'complex'>\n",
      "<class 'str'>\n",
      "<class 'bool'>\n"
     ]
    }
   ],
   "source": [
    "# Data types\n",
    "a = 10\n",
    "b = 21.00\n",
    "c = 3 + 4j\n",
    "d = \"mj\"\n",
    "e = True\n",
    "\n",
    "print(type(a))\n",
    "print(type(b))\n",
    "print(type(c))\n",
    "print(type(d))\n",
    "print(type(e))"
   ]
  },
  {
   "cell_type": "code",
   "execution_count": 11,
   "id": "01c99a77-6738-400c-9ac9-44eb9cd080bd",
   "metadata": {},
   "outputs": [
    {
     "name": "stdout",
     "output_type": "stream",
     "text": [
      "[1, 2, 3, 'MJ'] \n",
      " <class 'list'>\n"
     ]
    }
   ],
   "source": [
    "# List\n",
    "a = [1, 2, 3, \"MJ\"]\n",
    "print(a, \"\\n\", type(a))"
   ]
  },
  {
   "cell_type": "code",
   "execution_count": 17,
   "id": "e44d1700-d962-4475-8343-be13e5f8896f",
   "metadata": {},
   "outputs": [
    {
     "name": "stdout",
     "output_type": "stream",
     "text": [
      "(10, 20) \n",
      " <class 'tuple'> 20\n"
     ]
    }
   ],
   "source": [
    "# Tuples\n",
    "b = (10, 20)\n",
    "print(b, \"\\n\",type(b), b[1])"
   ]
  },
  {
   "cell_type": "code",
   "execution_count": 20,
   "id": "4a9f890b-e7ef-4c7d-a4f8-d03b75a80ff0",
   "metadata": {},
   "outputs": [
    {
     "name": "stdout",
     "output_type": "stream",
     "text": [
      "{1, 2, 3, 'DA'} \n",
      " <class 'set'>\n"
     ]
    }
   ],
   "source": [
    "# Sets store only Unique values, no index order\n",
    "c = {1, 2, 3, \"DA\"}\n",
    "print(c, \"\\n\", type(c))"
   ]
  },
  {
   "cell_type": "code",
   "execution_count": 22,
   "id": "e930f3b8-1589-489c-9fc1-a07769b06ef7",
   "metadata": {},
   "outputs": [
    {
     "name": "stdout",
     "output_type": "stream",
     "text": [
      "<class 'dict'> \n",
      " <class 'dict'> \n",
      " {1: 'MJ', 2: 'Valar'}\n"
     ]
    }
   ],
   "source": [
    "# Dictionary.\n",
    "d = {\n",
    "    1: \"MJ\",\n",
    "    2: \"Valar\"\n",
    "}\n",
    "\n",
    "e ={}\n",
    "print(type(e),\"\\n\",type(d), \"\\n\",d)"
   ]
  },
  {
   "cell_type": "code",
   "execution_count": 12,
   "id": "abbe27f9-c8ff-455e-8c6c-bd964e3a12a6",
   "metadata": {},
   "outputs": [
    {
     "name": "stdout",
     "output_type": "stream",
     "text": [
      "javajava\n",
      "125\n",
      "3\n",
      "15\n",
      "False\n",
      "A. of Circle:  314.159\n",
      "A. of Triangle:  100.0\n",
      "A. of Triangle:  100.0\n",
      "Percentage:  72.0\n",
      "KM to M:  1000000 M\n"
     ]
    }
   ],
   "source": [
    "# Operators.\n",
    "print(\"java\" * 2)\n",
    "\n",
    "print(5**3) #exponential operator.\n",
    "print(10//3) #Floor division operator. Nearest whole number.\n",
    "# ---------------------------------------------------------#\n",
    "a = 10\n",
    "a += 5\n",
    "print(a)\n",
    "# Conditional Operators: >, <, >=, <=, ==, !=\n",
    "# Answer is a Boolean.\n",
    "print(10 !=10)\n",
    "# Logical: AND, OR, NOT\n",
    "\n",
    "# Practice programs:\n",
    "# WAP to find the area of a circle. 2 * 3.14159 * radius\n",
    "radius = 10\n",
    "area_of_circle = 3.14159 * (radius * radius)\n",
    "print(\"A. of Circle: \",area_of_circle)\n",
    "\n",
    "# WAP to find the area of a triangle. A = 1/2 × b × h\n",
    "base = 10\n",
    "height  = 20\n",
    "area_of_triangle = (1/2) * (base * height)\n",
    "print(\"A. of Triangle: \", area_of_triangle)\n",
    "\n",
    "# WAP to find the area of a rectangle. A = w × l\n",
    "w = 10\n",
    "l = 20\n",
    "area_of_rectangle = l * w\n",
    "print(\"A. of Triangle: \", area_of_triangle)\n",
    "\n",
    "# WAP to take 5 subject marks and calculate the percentage.\n",
    "maths = 30\n",
    "science = 80\n",
    "SS = 80\n",
    "GK = 90\n",
    "CS = 80\n",
    "percentage = ((maths + science + SS + GK + CS) /500 ) * 100\n",
    "print(\"Percentage: \", percentage)\n",
    "\n",
    "# WAP to convert KM to M.\n",
    "km = 1000\n",
    "print(\"KM to M: \", km * 1000,\"M\")"
   ]
  },
  {
   "cell_type": "code",
   "execution_count": 11,
   "id": "e94c5966-0cc9-43c7-a452-11d7dd676e78",
   "metadata": {},
   "outputs": [
    {
     "name": "stdout",
     "output_type": "stream",
     "text": [
      "21 Is Not Divisible by 5.\n",
      "55 Is divisible by 5 and 11.\n"
     ]
    }
   ],
   "source": [
    "# 2-6-25; Monday.\n",
    "# Conditional statements.\n",
    "\n",
    "num = 21\n",
    "if( num % 5 == 0):\n",
    "    print(num,\"Is Divisible by 5.\")\n",
    "else:\n",
    "    print(num,\"Is Not Divisible by 5.\")\n",
    "\n",
    "# WAP to check if num is divisible by 5 AND 11\n",
    "n = 55\n",
    "if( n% 5 == 0 and n% 11 ==0):\n",
    "    print(n,\"Is divisible by 5 and 11.\")\n",
    "else:\n",
    "    print(n,\"Is not divisible by 5 and 11.\")\n",
    "    "
   ]
  },
  {
   "cell_type": "code",
   "execution_count": 12,
   "id": "00456627-3f6e-4517-8512-0c60c3067a3a",
   "metadata": {},
   "outputs": [
    {
     "name": "stdout",
     "output_type": "stream",
     "text": [
      "5 is Odd\n"
     ]
    }
   ],
   "source": [
    "# Odd or Even.\n",
    "num = 5\n",
    "if(num% 2 ==0):\n",
    "    print(num,\"is Even\")\n",
    "else:\n",
    "    print(num,\"is Odd\")"
   ]
  },
  {
   "cell_type": "code",
   "execution_count": 23,
   "id": "9ed63f3a-3e05-44cb-877e-965745068f3c",
   "metadata": {},
   "outputs": [
    {
     "name": "stdout",
     "output_type": "stream",
     "text": [
      "E Grade.\n"
     ]
    }
   ],
   "source": [
    "# if else ladder.\n",
    "# WAP to print students grades. G>= 90 = A, G>= 80 = B...\n",
    "mks = 40\n",
    "if(mks >= 90):\n",
    "    print(\"A Grade.\")\n",
    "elif(mks >= 80):\n",
    "    print(\"B Grade.\")\n",
    "elif(mks >= 70):\n",
    "    print(\"C Grade.\")\n",
    "elif(mks >= 60):\n",
    "    print(\"D Grade.\")\n",
    "elif(mks < 40):\n",
    "    print(\"E Grade.\")\n",
    "else:\n",
    "    print(\"Fail.\")"
   ]
  },
  {
   "cell_type": "code",
   "execution_count": 28,
   "id": "6d307070-8e02-43b0-b8ca-21b00ce52cd6",
   "metadata": {},
   "outputs": [
    {
     "name": "stdout",
     "output_type": "stream",
     "text": [
      "Neither Profit or Loss.\n"
     ]
    }
   ],
   "source": [
    "# WAP to find profit and loss.\n",
    "cp = 60\n",
    "sp = 60\n",
    "if(cp < sp):\n",
    "    profit = sp - cp\n",
    "    print(\"Profit of:\", profit)\n",
    "elif(cp > sp):\n",
    "    loss = cp-sp\n",
    "    print(\"Loss of:\", loss)\n",
    "else:\n",
    "    print(\"Neither Profit or Loss.\")"
   ]
  },
  {
   "cell_type": "code",
   "execution_count": 30,
   "id": "3f40e5a0-c7d2-4af1-a6a5-8592e2d2ac47",
   "metadata": {},
   "outputs": [
    {
     "name": "stdout",
     "output_type": "stream",
     "text": [
      "30 is largest.\n"
     ]
    }
   ],
   "source": [
    "# WAP to find max between 3 nums.\n",
    "f = 10\n",
    "s = 20\n",
    "t = 30\n",
    "if(f > s and f> t):\n",
    "    print(f,\"is largest.\")\n",
    "if(f < s and s > t):\n",
    "    print(s,\"is largest.\")\n",
    "if(f < t and s < t):\n",
    "    print(t,\"is largest.\")"
   ]
  },
  {
   "cell_type": "code",
   "execution_count": 41,
   "id": "fade6e9f-5284-46c7-84db-213637660b5a",
   "metadata": {},
   "outputs": [
    {
     "name": "stdout",
     "output_type": "stream",
     "text": [
      "2024 is a Leap year.\n"
     ]
    }
   ],
   "source": [
    "# WAP to check if year is leap year or not.\n",
    "year = 2024\n",
    "if(year % 4 == 0):\n",
    "    print(year,\"is a Leap year.\")\n",
    "else:\n",
    "    print(year,\"is not a Leap year.\")"
   ]
  },
  {
   "cell_type": "code",
   "execution_count": 43,
   "id": "770a2e88-33cd-4cf1-87bc-b50b39c90196",
   "metadata": {},
   "outputs": [
    {
     "name": "stdout",
     "output_type": "stream",
     "text": [
      "a is a Vowel.\n"
     ]
    },
    {
     "name": "stdin",
     "output_type": "stream",
     "text": [
      "Enter a character:  p\n"
     ]
    },
    {
     "name": "stdout",
     "output_type": "stream",
     "text": [
      "p is a Consonant.\n"
     ]
    }
   ],
   "source": [
    "# WAP to check if the given char. is a consonant or vowels.\n",
    "char = \"a\"\n",
    "if(char == \"a\" or char == \"e\" or char == \"i\" or char == \"o\" or char == \"u\"):\n",
    "    print(char,\"is a Vowel.\")\n",
    "else:\n",
    "    print(char,\"is a Consonant.\")\n",
    "# --------------------------------------------------------------------------#\n",
    "# GPT response with improvement:\n",
    "ch = input(\"Enter a character: \").lower()  # convert to lowercase\n",
    "\n",
    "if len(ch) == 1 and char.isalpha():\n",
    "    if ch in \"aeiou\":\n",
    "        print(ch,\"is a Vowel.\")\n",
    "    else:\n",
    "        print(ch,\"is a Consonant.\")\n",
    "else:\n",
    "    print(\"Invalid input. Please enter a single alphabet letter.\")"
   ]
  },
  {
   "cell_type": "code",
   "execution_count": 40,
   "id": "2c3f8918-79da-4ba8-811f-b127432b65a1",
   "metadata": {},
   "outputs": [
    {
     "name": "stdin",
     "output_type": "stream",
     "text": [
      "Enter marks of Maths: 40\n"
     ]
    },
    {
     "name": "stdout",
     "output_type": "stream",
     "text": [
      "40\n"
     ]
    },
    {
     "name": "stdin",
     "output_type": "stream",
     "text": [
      "Enter marks of Science: 89\n"
     ]
    },
    {
     "name": "stdout",
     "output_type": "stream",
     "text": [
      "89\n"
     ]
    },
    {
     "name": "stdin",
     "output_type": "stream",
     "text": [
      "Enter marks of English: 87\n"
     ]
    },
    {
     "name": "stdout",
     "output_type": "stream",
     "text": [
      "87\n"
     ]
    },
    {
     "name": "stdin",
     "output_type": "stream",
     "text": [
      "Enter marks of SS: 90\n"
     ]
    },
    {
     "name": "stdout",
     "output_type": "stream",
     "text": [
      "90\n"
     ]
    },
    {
     "name": "stdin",
     "output_type": "stream",
     "text": [
      "Enter marks of GK: 90\n"
     ]
    },
    {
     "name": "stdout",
     "output_type": "stream",
     "text": [
      "90\n",
      "79.2\n",
      "C Grade.\n"
     ]
    }
   ],
   "source": [
    "# WAP to take input of 5 subject marks, calculate the %age and grade according to the following condition:\n",
    "# 1. % >=90 = A, >=80 = B...\n",
    "maths = int(input(\"Enter marks of Maths:\"))\n",
    "print(maths)\n",
    "science = int(input(\"Enter marks of Science:\"))\n",
    "print(science)\n",
    "english = int(input(\"Enter marks of English:\"))\n",
    "print(english)\n",
    "SS = int(input(\"Enter marks of SS:\"))\n",
    "print(SS)\n",
    "GK = int(input(\"Enter marks of GK:\"))\n",
    "print(GK)\n",
    "\n",
    "per = ((maths + science + english + SS + GK)/500) * 100\n",
    "print(per)\n",
    "if(per >= 90):\n",
    "    print(\"A Grade.\")\n",
    "elif(per >= 80):\n",
    "    print(\"B Grade.\")\n",
    "elif(per >= 70):\n",
    "    print(\"C Grade.\")\n",
    "elif(per >= 60):\n",
    "    print(\"D Grade.\")\n",
    "elif(per < 40):\n",
    "    print(\"E Grade.\")\n",
    "else:\n",
    "    print(\"Fail.\")"
   ]
  },
  {
   "cell_type": "code",
   "execution_count": 13,
   "id": "247393fe-1715-4afe-b939-07a9b28a116c",
   "metadata": {
    "scrolled": true
   },
   "outputs": [
    {
     "name": "stdout",
     "output_type": "stream",
     "text": [
      "Sum of first 10 numbers:  55\n",
      "--------------------------------------------------\n",
      "Printing List:\n",
      "10\n",
      "20\n",
      "30\n",
      "40\n",
      "50\n",
      "['a', 'b', 'c', 'd', 'e']\n",
      "--------------------------------------------------\n",
      "1 Hello World!!\n",
      "2 Hello World!!\n",
      "3 Hello World!!\n",
      "4 Hello World!!\n",
      "5 Hello World!!\n",
      "6 Hello World!!\n",
      "7 Hello World!!\n",
      "8 Hello World!!\n",
      "9 Hello World!!\n",
      "10 Hello World!!\n"
     ]
    }
   ],
   "source": [
    "# 5-6-25; Thursday.\n",
    "# Looping statements.\n",
    "\n",
    "# Sum of 1 - 10:\n",
    "n = 0\n",
    "for num in range(1, 11): #for loop. Exit control.\n",
    "    n += num\n",
    "print(\"Sum of first 10 numbers: \", n)\n",
    "\n",
    "print(\"--------------------------------------------------\")\n",
    "print(\"Printing List:\")\n",
    "a = [10, 20, 30, 40, 50, [\"a\", \"b\", \"c\", \"d\", \"e\"]]\n",
    "for x in a:\n",
    "    print(x)\n",
    "# 1st 10 nums:\n",
    "print(\"--------------------------------------------------\")\n",
    "i = 1\n",
    "while ( i < 11): #while loop. Entry control.\n",
    "    print(i,\"Hello World!!\")\n",
    "    i += 1"
   ]
  },
  {
   "cell_type": "code",
   "execution_count": 20,
   "id": "113cdba8-2112-405e-ae57-a46c72637b22",
   "metadata": {},
   "outputs": [
    {
     "name": "stdout",
     "output_type": "stream",
     "text": [
      "Count of Even Numbers: 50\n",
      "Count of Odd Numbers: 50\n"
     ]
    }
   ],
   "source": [
    "# WAP to print Odd and Even from 1 - 100.\n",
    "# Syntax: range(start, stop, step)\n",
    "# 1. start → (optional) starting value, default is 0\n",
    "# 2. stop → required, the sequence goes up to but does not include this value\n",
    "# 3. step → (optional) increment between values, default is 1\n",
    "count_of_even = 0\n",
    "count_of_odd = 0\n",
    "for x in range(1, 101):\n",
    "    if(x % 2 == 0):\n",
    "        # print(x,\"is an even number.\")\n",
    "        count_of_even += 1\n",
    "    else:\n",
    "        # print(x,\"is an odd number.\")\n",
    "        count_of_odd += 1\n",
    "\n",
    "print(\"Count of Even Numbers:\",count_of_even)\n",
    "print(\"Count of Odd Numbers:\",count_of_odd)\n"
   ]
  },
  {
   "cell_type": "code",
   "execution_count": 23,
   "id": "913b9030-2fbd-4934-90e8-369526563eb8",
   "metadata": {},
   "outputs": [
    {
     "name": "stdin",
     "output_type": "stream",
     "text": [
      "Enter any number: 2\n"
     ]
    },
    {
     "name": "stdout",
     "output_type": "stream",
     "text": [
      "Table from 1- 10 for 2\n",
      "2\n",
      "4\n",
      "6\n",
      "8\n",
      "10\n",
      "12\n",
      "14\n",
      "16\n",
      "18\n",
      "20\n"
     ]
    }
   ],
   "source": [
    "# WAP to print multiplication table of any number.\n",
    "num = int(input(\"Enter any number:\"))\n",
    "print(\"Table from 1- 10 for\", num)\n",
    "for x in range(1, 11):\n",
    "    print(num * x)"
   ]
  },
  {
   "cell_type": "code",
   "execution_count": 24,
   "id": "3ddac8ac-b67d-4167-95d1-fd336e36547c",
   "metadata": {},
   "outputs": [
    {
     "name": "stdout",
     "output_type": "stream",
     "text": [
      "Sum of first 10 numbers:  55\n"
     ]
    }
   ],
   "source": [
    "# WAP to print sum of first 10 munbers.\n",
    "# Sum of 1 - 10:\n",
    "n = 0\n",
    "for num in range(1, 11):\n",
    "    n += num\n",
    "print(\"Sum of first 10 numbers: \", n)"
   ]
  },
  {
   "cell_type": "code",
   "execution_count": 27,
   "id": "896e2a0c-c282-4539-9b76-0fbe80b4b118",
   "metadata": {},
   "outputs": [
    {
     "name": "stdin",
     "output_type": "stream",
     "text": [
      "Enter any number:  5\n"
     ]
    },
    {
     "name": "stdout",
     "output_type": "stream",
     "text": [
      "Factorial of 5 = 120\n"
     ]
    }
   ],
   "source": [
    "# WAP to print factorial of a number.\n",
    "# 5! = 5 * 4 * 3 * 2 * 1.\n",
    "# MY CODE:-----------------------------------\n",
    "# num = int(input(\"Enter any number:\"))\n",
    "# factorial = 0\n",
    "# for x in (num and num > 0):\n",
    "#     factorial = num * x\n",
    "#     num-1\n",
    "\n",
    "# print(\"Factorial of: \", num, \"=\", factorial)\n",
    "# -------------------------------------------\n",
    "# GPT SOLUTION:\n",
    "num = int(input(\"Enter any number: \"))\n",
    "factorial = 1  # start with 1\n",
    "\n",
    "if num < 0:\n",
    "    print(\"Factorial is not defined for negative numbers.\")\n",
    "elif num == 0:\n",
    "    print(\"Factorial of 0 = 1\")\n",
    "else:\n",
    "    for x in range(1, num + 1):\n",
    "        factorial *= x\n",
    "    print(\"Factorial of\", num, \"=\", factorial)\n"
   ]
  },
  {
   "cell_type": "code",
   "execution_count": 1,
   "id": "cfd3fb58-4413-48df-afcd-6081cc915fb8",
   "metadata": {},
   "outputs": [
    {
     "name": "stdin",
     "output_type": "stream",
     "text": [
      "Enter any number:  3\n"
     ]
    },
    {
     "name": "stdout",
     "output_type": "stream",
     "text": [
      "3 is a Prime Number.\n"
     ]
    },
    {
     "name": "stdin",
     "output_type": "stream",
     "text": [
      "Enter any number:  3\n"
     ]
    },
    {
     "name": "stdout",
     "output_type": "stream",
     "text": [
      "3 is a Prime number.\n"
     ]
    }
   ],
   "source": [
    "# WAP to check if number is prime or not.\n",
    "#Defination: A prime number is a number greater than 1 that has only two factors: 1 and itself.\n",
    "num = int(input(\"Enter any number: \"))\n",
    "flag = 0\n",
    "if(num == 0 or num == 1 or num < 0):\n",
    "    print(num,\"is not a Prime numeber.\")\n",
    "else:\n",
    "    for x in range(2, num):\n",
    "        if(num % x == 0):\n",
    "            flag = 1\n",
    "if(flag == 0):\n",
    "    print(num,\"is a Prime Number.\")\n",
    "else:\n",
    "    print(num,\"is not a Prime Number.\")\n",
    "# GPT OPTIMIZATION:\n",
    "n = int(input(\"Enter any number: \"))\n",
    "\n",
    "if num <= 1:\n",
    "    print(n, \"is not a Prime number.\")\n",
    "else:\n",
    "    for x in range(2, int(n ** 0.5) + 1):\n",
    "        if n % x == 0:\n",
    "            print(n, \"is not a Prime number.\")\n",
    "            break\n",
    "    else:\n",
    "        print(n, \"is a Prime number.\")\n"
   ]
  },
  {
   "cell_type": "code",
   "execution_count": 42,
   "id": "6d216d41-6085-4550-9db6-bfd74af6e4c8",
   "metadata": {},
   "outputs": [
    {
     "name": "stdout",
     "output_type": "stream",
     "text": [
      "Reversed Number is: 321\n"
     ]
    }
   ],
   "source": [
    "# 6-6-25; Friday:\n",
    "# WAP to reverse a number.\n",
    "num = 123\n",
    "rem = 0\n",
    "rev = 0\n",
    "while(num > 0):\n",
    "    rem = num % 10\n",
    "    rev = (rev * 10) + rem\n",
    "    num = num //10 #Floor division\n",
    "print(\"Reversed Number is:\", rev)"
   ]
  },
  {
   "cell_type": "code",
   "execution_count": 47,
   "id": "63f1e9b5-a3cf-4d7a-a77e-82df20d3d0cb",
   "metadata": {},
   "outputs": [
    {
     "name": "stdin",
     "output_type": "stream",
     "text": [
      "Enter a number: 1234321\n"
     ]
    },
    {
     "name": "stdout",
     "output_type": "stream",
     "text": [
      "1234321 is a Palindrome.\n"
     ]
    },
    {
     "name": "stdin",
     "output_type": "stream",
     "text": [
      "Enter a number:  -123\n"
     ]
    },
    {
     "name": "stdout",
     "output_type": "stream",
     "text": [
      "Negetive numbers aren't Palindrome.\n",
      "-123 is not a Palindrome.\n"
     ]
    }
   ],
   "source": [
    "#WAP it check if number is Palindrome or not.\n",
    "num = int(input(\"Enter a number:\"))\n",
    "original = num\n",
    "rem = 0\n",
    "rev = 0\n",
    "while(num > 0):\n",
    "    rem = num % 10\n",
    "    rev = (rev * 10) + rem\n",
    "    num = num //10\n",
    "\n",
    "if (original == rev):\n",
    "    print(original,\"is a Palindrome.\")\n",
    "else:\n",
    "    print(original,\"is not a Palindrome.\")\n",
    "\n",
    "# GPT OPTIMIZATION:\n",
    "n = int(input(\"Enter a number: \"))\n",
    "o = n\n",
    "r = 0\n",
    "\n",
    "if n < 0:\n",
    "    print(\"Negetive numbers aren't Palindrome.\")\n",
    "while n > 0:\n",
    "    r = (r * 10) + (n % 10)\n",
    "    n = n // 10\n",
    "\n",
    "if o == r:\n",
    "    print(o, \"is a Palindrome.\")\n",
    "else:\n",
    "    print(o, \"is not a Palindrome.\")\n"
   ]
  },
  {
   "cell_type": "code",
   "execution_count": 58,
   "id": "e5e8d4af-3f03-438d-8519-442865ea075f",
   "metadata": {},
   "outputs": [
    {
     "name": "stdout",
     "output_type": "stream",
     "text": [
      "Product of 2 and 3 is: 6\n"
     ]
    }
   ],
   "source": [
    "# WAP to multiply 2 numbers without multiplication operator.\n",
    "n1 = 2\n",
    "n2 = 3\n",
    "prod = 0\n",
    "for x in range(1, n1 +1):\n",
    "    prod += n2\n",
    "print(\"Product of 2 and 3 is:\", prod)"
   ]
  },
  {
   "cell_type": "code",
   "execution_count": 12,
   "id": "820f7fec-5a1c-469e-9669-c962cfc9c52e",
   "metadata": {},
   "outputs": [
    {
     "name": "stdout",
     "output_type": "stream",
     "text": [
      "153 is an Armstrong number.\n"
     ]
    },
    {
     "name": "stdin",
     "output_type": "stream",
     "text": [
      "Enter a number:  9474\n"
     ]
    },
    {
     "name": "stdout",
     "output_type": "stream",
     "text": [
      "9474 is an Armstrong number.\n"
     ]
    }
   ],
   "source": [
    "# WAP to check is number is an Armstrong or not.\n",
    "num = 153\n",
    "original = num\n",
    "rem = 0\n",
    "sum_ = 0\n",
    "while( num > 0):\n",
    "    rem = num % 10\n",
    "    sum_ += rem ** 3\n",
    "    num = num //10\n",
    "if (original == sum_):\n",
    "    print(original,\"is an Armstrong number.\")\n",
    "else:\n",
    "    print(original,\"is not an Armstrong number.\")\n",
    "\n",
    "# GPT OPTIMIZATIONS:\n",
    "\n",
    "num = int(input(\"Enter a number: \"))\n",
    "original = num\n",
    "sum_ = 0\n",
    "\n",
    "# Step 1: Count the number of digits\n",
    "digits = len(str(num))\n",
    "\n",
    "# Step 2: Calculate the sum of each digit raised to the power of number of digits\n",
    "while num > 0:\n",
    "    rem = num % 10\n",
    "    sum_ += rem ** digits\n",
    "    num = num // 10\n",
    "\n",
    "# Step 3: Compare the result\n",
    "if original == sum_:\n",
    "    print(original, \"is an Armstrong number.\")\n",
    "else:\n",
    "    print(original, \"is not an Armstrong number.\")\n"
   ]
  },
  {
   "cell_type": "code",
   "execution_count": 17,
   "id": "5975d2d3-755a-4b7c-b52e-f8a5fba5bfcf",
   "metadata": {},
   "outputs": [
    {
     "name": "stdout",
     "output_type": "stream",
     "text": [
      "1\n",
      "2\n",
      "3\n",
      "4\n"
     ]
    }
   ],
   "source": [
    "# break keyword.\n",
    "for x in range(1, 11):\n",
    "    if(x == 5):\n",
    "        break\n",
    "    print(x)"
   ]
  },
  {
   "cell_type": "code",
   "execution_count": 15,
   "id": "2be8f197-3563-49b4-9761-6d453c2c05ea",
   "metadata": {},
   "outputs": [
    {
     "name": "stdout",
     "output_type": "stream",
     "text": [
      "1\n",
      "3\n",
      "5\n",
      "7\n",
      "9\n"
     ]
    }
   ],
   "source": [
    "# continue keyword.\n",
    "for x in range(1, 11):\n",
    "    if(x % 2 == 0):\n",
    "        continue\n",
    "    print(x)"
   ]
  },
  {
   "cell_type": "code",
   "execution_count": 18,
   "id": "21188aa7-bed5-4690-84a8-4202a642a895",
   "metadata": {},
   "outputs": [
    {
     "ename": "SyntaxError",
     "evalue": "'break' outside loop (2355004803.py, line 4)",
     "output_type": "error",
     "traceback": [
      "  \u001b[36mCell\u001b[39m\u001b[36m \u001b[39m\u001b[32mIn[18]\u001b[39m\u001b[32m, line 4\u001b[39m\n\u001b[31m    \u001b[39m\u001b[31mbreak\u001b[39m\n    ^\n\u001b[31mSyntaxError\u001b[39m\u001b[31m:\u001b[39m 'break' outside loop\n"
     ]
    }
   ],
   "source": [
    "# control flow statements work only in loops.\n",
    "# for x in range(1, 11):\n",
    "if(x == 5):\n",
    "    break\n",
    "    print(x)"
   ]
  }
 ],
 "metadata": {
  "kernelspec": {
   "display_name": "Python 3 (ipykernel)",
   "language": "python",
   "name": "python3"
  },
  "language_info": {
   "codemirror_mode": {
    "name": "ipython",
    "version": 3
   },
   "file_extension": ".py",
   "mimetype": "text/x-python",
   "name": "python",
   "nbconvert_exporter": "python",
   "pygments_lexer": "ipython3",
   "version": "3.12.3"
  }
 },
 "nbformat": 4,
 "nbformat_minor": 5
}
