{
 "cells": [
  {
   "cell_type": "code",
   "execution_count": 7,
   "metadata": {},
   "outputs": [
    {
     "name": "stdout",
     "output_type": "stream",
     "text": [
      "Hello Python!!\n",
      "Hello Python!!\n",
      "Hello Python!!\n",
      "Error: Division by zero\n",
      "Hello Python!!\n",
      "------------------------------\n",
      "Enter an integer value for age.\n"
     ]
    }
   ],
   "source": [
    "# 26-06-25, Thursday;\n",
    "# PDBC: Python Database Connector\n",
    "# Steps:\n",
    "# 1. Create a connection.\n",
    "# 2. Create/ read/ update/ delete data.\n",
    "# 3. Close the connection.\n",
    "# ------------------------------\n",
    "# Exception Handling.\n",
    "# Exception: Unforeseen event/ error, disturbs noraml flow of program.\n",
    "# types of errors: typeError, valueError, indexError, keyError, etc. (These are inbuild classes).\n",
    "# Errors are programming errors, exceptions are runtime errors.\n",
    "# ------------------------------\n",
    "# Difference between Errors & Exceptions:\n",
    "# Errors:\n",
    "# 1. Syntax errors.\n",
    "# 2. Logical errors.\n",
    "# Exceptions:\n",
    "# 1. Runtime errors.\n",
    "# 2. Exceptions like user gave string instead of int in the input.\n",
    "# ------------------------------\n",
    "# try block: It is used to execute risky code.\n",
    "# except block: It is used to handle the error.\n",
    "# else block: It is used to execute the code if there is no exception.\n",
    "# finally block: It is used to execute the code whether exception is raised or not.\n",
    "# ------------------------------\n",
    "# try:\n",
    "    # abnormal/ risky code\n",
    "# except:\n",
    "    # handle the error\n",
    "# else:\n",
    "    # execute the code if there is no exception\n",
    "# finally:\n",
    "    # execute the code whether exception is raised or not.\n",
    "# E.G.:\n",
    "print(\"Hello Python!!\")\n",
    "print(\"Hello Python!!\")\n",
    "print(\"Hello Python!!\")\n",
    "try:\n",
    "    print(10/0)\n",
    "except ZeroDivisionError:\n",
    "    print(\"Error: Division by zero\")\n",
    "print(\"Hello Python!!\")\n",
    "\n",
    "print(\"------------------------------\")\n",
    "# Invalid input e.g:\n",
    "try:\n",
    "    age = int(input(\"Enter your age:\"))\n",
    "    print(\"You are\", age, \"Years old.\")\n",
    "except ValueError:\n",
    "    print(\"Enter an integer value for age.\")"
   ]
  },
  {
   "cell_type": "code",
   "execution_count": 17,
   "metadata": {},
   "outputs": [
    {
     "name": "stdout",
     "output_type": "stream",
     "text": [
      "Hello Python!!\n",
      "Error: division by zero\n",
      "Exception Type: ZeroDivisionError\n",
      "Hello Python!!\n"
     ]
    }
   ],
   "source": [
    "# 27-06-25, Friday;\n",
    "print(\"Hello Python!!\")\n",
    "# try:\n",
    "#     print(10/0)\n",
    "# except Exception as e:\n",
    "#     print(\"Error:\", e)\n",
    "# print(\"Hello Python!!\")\n",
    "# GPT response for getting type of exception as well.\n",
    "try:\n",
    "    print(10 / 0)\n",
    "except Exception as e:\n",
    "    print(\"Error:\", e)\n",
    "    print(\"Exception Type:\", type(e).__name__)  # 👈 Gets class name of exception\n",
    "print(\"Hello Python!!\")\n"
   ]
  },
  {
   "cell_type": "code",
   "execution_count": 14,
   "metadata": {},
   "outputs": [
    {
     "name": "stdout",
     "output_type": "stream",
     "text": [
      "Exception: division by zero\n",
      "Class: ZeroDivisionError\n"
     ]
    },
    {
     "name": "stderr",
     "output_type": "stream",
     "text": [
      "Traceback (most recent call last):\n",
      "  File \"C:\\Users\\Admin\\AppData\\Local\\Temp\\ipykernel_23524\\123952109.py\", line 4, in <module>\n",
      "    print(10 / 0)\n",
      "          ~~~^~~\n",
      "ZeroDivisionError: division by zero\n"
     ]
    }
   ],
   "source": [
    "import traceback\n",
    "\n",
    "try:\n",
    "    print(10 / 0)\n",
    "except Exception as e:\n",
    "    print(\"Exception:\", e)\n",
    "    print(\"Class:\", type(e).__name__)\n",
    "    traceback.print_exc()  # 👈 Prints full stack trace\n"
   ]
  },
  {
   "cell_type": "code",
   "execution_count": 34,
   "metadata": {},
   "outputs": [
    {
     "name": "stdout",
     "output_type": "stream",
     "text": [
      "Try with multiple except blocks:\n",
      "Value Error Handled.\n",
      "Finally executed.\n"
     ]
    }
   ],
   "source": [
    "# try with multiple except blocks.\n",
    "import traceback\n",
    "a = [\"10\", \"Chiron\", 10]\n",
    "print(\"Try with multiple except blocks:\")\n",
    "try:\n",
    "    print(\"1\", int(a[1]))\n",
    "    print(10/0)\n",
    "    print(\"-----\")\n",
    "except ZeroDivisionError:\n",
    "    print(\"Zero Division Handled.\")\n",
    "except TypeError:\n",
    "    print(\"Type Error Handled.\")\n",
    "except NameError:\n",
    "    print(\"Name Error Handled.\")\n",
    "except ValueError:\n",
    "    print(\"Value Error Handled.\")\n",
    "except Exception as e:\n",
    "    print(\"Class:\", type(e).__name__, \"|| Exception:\", e)\n",
    "    traceback.print_exc()\n",
    "else:\n",
    "    print(\"No Exception.\")\n",
    "finally: #executes always.\n",
    "    print(\"Finally executed.\")\n"
   ]
  },
  {
   "cell_type": "code",
   "execution_count": 37,
   "metadata": {},
   "outputs": [
    {
     "ename": "AgeError",
     "evalue": "Age is less than 18.",
     "output_type": "error",
     "traceback": [
      "\u001b[31m---------------------------------------------------------------------------\u001b[39m",
      "\u001b[31mAgeError\u001b[39m                                  Traceback (most recent call last)",
      "\u001b[36mCell\u001b[39m\u001b[36m \u001b[39m\u001b[32mIn[37]\u001b[39m\u001b[32m, line 11\u001b[39m\n\u001b[32m      8\u001b[39m age = \u001b[38;5;28mint\u001b[39m(\u001b[38;5;28minput\u001b[39m(\u001b[33m\"\u001b[39m\u001b[33mEnter your age:\u001b[39m\u001b[33m\"\u001b[39m))\n\u001b[32m      9\u001b[39m \u001b[38;5;28;01mif\u001b[39;00m age < \u001b[32m18\u001b[39m:\n\u001b[32m     10\u001b[39m     \u001b[38;5;66;03m# raise ValueError(\"Age is less than 18.\") #predefined errors\u001b[39;00m\n\u001b[32m---> \u001b[39m\u001b[32m11\u001b[39m     \u001b[38;5;28;01mraise\u001b[39;00m AgeError(\u001b[33m\"\u001b[39m\u001b[33mAge is less than 18.\u001b[39m\u001b[33m\"\u001b[39m) \u001b[38;5;66;03m#user defined errors\u001b[39;00m\n\u001b[32m     12\u001b[39m \u001b[38;5;28;01melse\u001b[39;00m:\n\u001b[32m     13\u001b[39m     \u001b[38;5;28mprint\u001b[39m(\u001b[33m\"\u001b[39m\u001b[33mAge is greater than 18.\u001b[39m\u001b[33m\"\u001b[39m)\n",
      "\u001b[31mAgeError\u001b[39m: Age is less than 18."
     ]
    }
   ],
   "source": [
    "# User defined Exception.\n",
    "# E.G.: Age is less than 18.\n",
    "\n",
    "class AgeError(Exception):\n",
    "    def __init__(self, msg):\n",
    "        self.msg = msg\n",
    "\n",
    "age = int(input(\"Enter your age:\"))\n",
    "if age < 18:\n",
    "    # raise ValueError(\"Age is less than 18.\") #predefined errors\n",
    "    raise AgeError(\"Age is less than 18.\") #user defined errors\n",
    "else:\n",
    "    print(\"Age is greater than 18.\")\n"
   ]
  },
  {
   "cell_type": "code",
   "execution_count": 39,
   "metadata": {},
   "outputs": [
    {
     "name": "stdout",
     "output_type": "stream",
     "text": [
      "Current balance: 1000\n"
     ]
    },
    {
     "ename": "InsufficientBalanceError",
     "evalue": "Insufficient Balance, please enter a valid amount...",
     "output_type": "error",
     "traceback": [
      "\u001b[31m---------------------------------------------------------------------------\u001b[39m",
      "\u001b[31mInsufficientBalanceError\u001b[39m                  Traceback (most recent call last)",
      "\u001b[36mCell\u001b[39m\u001b[36m \u001b[39m\u001b[32mIn[39]\u001b[39m\u001b[32m, line 17\u001b[39m\n\u001b[32m     14\u001b[39m             \u001b[38;5;28;01mraise\u001b[39;00m InsufficientBalanceError(\u001b[33m\"\u001b[39m\u001b[33mInsufficient Balance, please enter a valid amount...\u001b[39m\u001b[33m\"\u001b[39m)\n\u001b[32m     16\u001b[39m i = InsufficientBalanceError()\n\u001b[32m---> \u001b[39m\u001b[32m17\u001b[39m \u001b[43mi\u001b[49m\u001b[43m.\u001b[49m\u001b[43mwithdraw\u001b[49m\u001b[43m(\u001b[49m\u001b[32;43m1001\u001b[39;49m\u001b[43m)\u001b[49m\n",
      "\u001b[36mCell\u001b[39m\u001b[36m \u001b[39m\u001b[32mIn[39]\u001b[39m\u001b[32m, line 14\u001b[39m, in \u001b[36mInsufficientBalanceError.withdraw\u001b[39m\u001b[34m(self, amt)\u001b[39m\n\u001b[32m     12\u001b[39m     \u001b[38;5;28mprint\u001b[39m(\u001b[33m\"\u001b[39m\u001b[33mBalance after withrawal:\u001b[39m\u001b[33m\"\u001b[39m, cb)\n\u001b[32m     13\u001b[39m \u001b[38;5;28;01melse\u001b[39;00m:\n\u001b[32m---> \u001b[39m\u001b[32m14\u001b[39m     \u001b[38;5;28;01mraise\u001b[39;00m InsufficientBalanceError(\u001b[33m\"\u001b[39m\u001b[33mInsufficient Balance, please enter a valid amount...\u001b[39m\u001b[33m\"\u001b[39m)\n",
      "\u001b[31mInsufficientBalanceError\u001b[39m: Insufficient Balance, please enter a valid amount..."
     ]
    }
   ],
   "source": [
    "# Insufficient Balance error example:\n",
    "\n",
    "class InsufficientBalanceError(Exception):\n",
    "    # def __init__(self, msg):\n",
    "    #     self.msg = msg\n",
    "    \n",
    "    def withdraw(self, amt):\n",
    "        cb = 1000\n",
    "        print(\"Current balance:\", cb)\n",
    "        if(cb >= amt):\n",
    "            cb -= amt\n",
    "            print(\"Balance after withrawal:\", cb)\n",
    "        else:\n",
    "            raise InsufficientBalanceError(\"Insufficient Balance, please enter a valid amount...\")\n",
    "        \n",
    "i = InsufficientBalanceError()\n",
    "i.withdraw(1001)"
   ]
  },
  {
   "cell_type": "code",
   "execution_count": 48,
   "metadata": {},
   "outputs": [
    {
     "name": "stdout",
     "output_type": "stream",
     "text": [
      "Email: wakanda@forever.com is valid.\n"
     ]
    }
   ],
   "source": [
    "# Email validity example, checks for \"@\" and \".com\" present in email or not.\n",
    "\n",
    "class EmailValidityError(Exception):\n",
    "    def __init__(self, msg):\n",
    "        self.msg = msg\n",
    "    \n",
    "    def checkValidity(self, email):\n",
    "        if \"@\" in email and \".com\" in email:\n",
    "            print(f\"Email: {email} is valid.\")\n",
    "        else:\n",
    "            raise EmailValidityError(f\"Email {email} is not valid.\")\n",
    "            \n",
    "e = EmailValidityError(\"Email validity exception.\")\n",
    "email = input(\"Enter Your Email:\")\n",
    "e.checkValidity(email)"
   ]
  }
 ],
 "metadata": {
  "kernelspec": {
   "display_name": "Python 3",
   "language": "python",
   "name": "python3"
  },
  "language_info": {
   "codemirror_mode": {
    "name": "ipython",
    "version": 3
   },
   "file_extension": ".py",
   "mimetype": "text/x-python",
   "name": "python",
   "nbconvert_exporter": "python",
   "pygments_lexer": "ipython3",
   "version": "3.12.3"
  }
 },
 "nbformat": 4,
 "nbformat_minor": 2
}
