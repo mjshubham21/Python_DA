{
 "cells": [
  {
   "cell_type": "code",
   "execution_count": 6,
   "metadata": {},
   "outputs": [
    {
     "name": "stdout",
     "output_type": "stream",
     "text": [
      "Hello Python!!\n",
      "Hello Python!!\n",
      "Hello Python!!\n",
      "Error: Division by zero\n",
      "Hello Python!!\n",
      "------------------------------\n",
      "Enter an integer value for age.\n"
     ]
    }
   ],
   "source": [
    "# 26-06-25, Thursday;\n",
    "# PDBC: Python Database Connector\n",
    "# Steps:\n",
    "# 1. Create a connection.\n",
    "# 2. Create/ read/ update/ delete data.\n",
    "# 3. Close the connection.\n",
    "# ------------------------------\n",
    "# Exception Handling.\n",
    "# Exception: Unforeseen event/ error, disturbs noraml flow of program.\n",
    "# types of errors: typeError, valueError, indexError, keyError, etc. (These are inbuild classes).\n",
    "# Errors are programming errors, exceptions are runtime errors.\n",
    "# ------------------------------\n",
    "# Difference between Errors & Exceptions:\n",
    "# Errors:\n",
    "# 1. Syntax errors.\n",
    "# 2. Logical errors.\n",
    "# Exceptions:\n",
    "# 1. Runtime errors.\n",
    "# 2. Exceptions like user gave string instead of int in the input.\n",
    "# ------------------------------\n",
    "# try block: It is used to execute risky code.\n",
    "# except block: It is used to handle the error.\n",
    "# else block: It is used to execute the code if there is no exception.\n",
    "# finally block: It is used to execute the code whether exception is raised or not.\n",
    "# ------------------------------\n",
    "# try:\n",
    "    # abnormal/ risky code\n",
    "# except:\n",
    "    # handle the error\n",
    "# else:\n",
    "    # execute the code if there is no exception\n",
    "# finally:\n",
    "    # execute the code whether exception is raised or not.\n",
    "# E.G.:\n",
    "print(\"Hello Python!!\")\n",
    "print(\"Hello Python!!\")\n",
    "print(\"Hello Python!!\")\n",
    "try:\n",
    "    print(10/0)\n",
    "except ZeroDivisionError:\n",
    "    print(\"Error: Division by zero\")\n",
    "print(\"Hello Python!!\")\n",
    "\n",
    "print(\"------------------------------\")\n",
    "# Invalid input e.g:\n",
    "try:\n",
    "    age = int(input(\"Enter your age:\"))\n",
    "    print(\"You are\", age, \"Years old.\")\n",
    "except ValueError:\n",
    "    print(\"Enter an integer value for age.\")"
   ]
  }
 ],
 "metadata": {
  "kernelspec": {
   "display_name": "Python 3",
   "language": "python",
   "name": "python3"
  },
  "language_info": {
   "codemirror_mode": {
    "name": "ipython",
    "version": 3
   },
   "file_extension": ".py",
   "mimetype": "text/x-python",
   "name": "python",
   "nbconvert_exporter": "python",
   "pygments_lexer": "ipython3",
   "version": "3.12.3"
  }
 },
 "nbformat": 4,
 "nbformat_minor": 2
}
